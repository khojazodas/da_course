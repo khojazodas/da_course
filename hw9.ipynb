{
 "cells": [
  {
   "cell_type": "markdown",
   "metadata": {},
   "source": [
    "# Титул: Домашнее задание №9\n",
    "## Исполнитель: Ходжазода Садриддин"
   ]
  },
  {
   "cell_type": "markdown",
   "metadata": {},
   "source": [
    "#### Домашняя работа по plotly\n",
    "На основе данных из таблицы track создайте столбчатую диаграмму, показывающую общую сумму минут (длительность треков) в разбивке по жанрам.\n",
    "На основе данных из таблицы track создайте диаграмму рассеивания, показывающую соотношение минут и мегабайтов.\n",
    "На основе данных из таблицы invoice создайте коробчатую диаграмму, показывающую распределение дохода (поле total) в разбивке по странам.\n",
    "На основе данных из таблицы invoice создайте линейчатую диаграмму, показывающую изменение дохода по месяцам за 2025 год.\n",
    "На основе данных из таблицы invoice, создайте круговую диаграмму, показывающую соотношение продаж в США и в остальном мире. Т.е. ваша круговая диаграмма должна состоять лишь из двух секций: США и остальной мир.\n",
    "Файл решения должен быть в формате блокнота 'ipynb' (jupyter notebook). В блокноте должно быть следующее:\n",
    "* титул - \"Домашнее задание №\"\n",
    "* исполнитель - \"исполнитель: Имя и Фамилия\"\n",
    "* номер и полное описание задачи\n",
    "* код решения\n",
    "\n",
    "Создайте в вашем репозитории новую ветку и сохраните файл с кодом решения перечисленных задач в эту ветку. Сделайте коммит, пуш и создайте pull request. В классруме прикрепите скриншот вкладки files changed вашего pull request-а и ссылку на репозиторий."
   ]
  },
  {
   "cell_type": "code",
   "execution_count": 2,
   "metadata": {},
   "outputs": [],
   "source": [
    "import sqlalchemy as db\n",
    "import pandas as pd\n",
    "import plotly.express as px\n",
    "\n",
    "def read_credentials():\n",
    "    with open('credentials.txt') as f:\n",
    "        connection_string = f.read().strip()\n",
    "    return connection_string\n",
    "\n",
    "def connect_to(db_name):\n",
    "    conn = None\n",
    "    try:\n",
    "        if db_name == 'postgres':\n",
    "            connection_string = read_credentials()\n",
    "            engine = db.create_engine(connection_string)\n",
    "            conn = engine.connect()\n",
    "            print(\"Successfully connected to the database\")\n",
    "        else:\n",
    "            print(f\"Database {db_name} is not supported.\")\n",
    "    except Exception as e:\n",
    "        print(f\"An error occurred while connecting to the database: {e}\")\n",
    "    \n",
    "    return conn"
   ]
  },
  {
   "cell_type": "markdown",
   "metadata": {},
   "source": [
    "## Задание 1."
   ]
  },
  {
   "cell_type": "code",
   "execution_count": 12,
   "metadata": {},
   "outputs": [],
   "source": [
    "connection_string = read_credentials()\n",
    "engine = db.create_engine(connection_string)\n",
    "conn = engine.connect()\n",
    "\n",
    "query = \"\"\"\n",
    "select \n",
    "    genre.name as genre\n",
    "    , sum(track.milliseconds) / 60000 as totalminutes\n",
    "from track\n",
    "join genre on track.genre_id = genre.genre_id\n",
    "group by genre.name\n",
    "order by totalminutes desc;\n",
    "\"\"\"\n",
    "\n",
    "df = pd.read_sql_query(query, conn)\n",
    "\n",
    "conn.close()"
   ]
  },
  {
   "cell_type": "code",
   "execution_count": 11,
   "metadata": {},
   "outputs": [
    {
     "data": {
      "application/vnd.plotly.v1+json": {
       "config": {
        "plotlyServerURL": "https://plot.ly"
       },
       "data": [
        {
         "alignmentgroup": "True",
         "hovertemplate": "Жанр=%{x}<br>Суммарная длительность (минуты)=%{marker.color}<extra></extra>",
         "legendgroup": "",
         "marker": {
          "color": [
           6137,
           3324,
           2746,
           2247,
           1930,
           1296,
           1261,
           632,
           568,
           449,
           364,
           362,
           238,
           223,
           183,
           176,
           175,
           151,
           138,
           104,
           103,
           75,
           54,
           26,
           2
          ],
          "coloraxis": "coloraxis",
          "pattern": {
           "shape": ""
          }
         },
         "name": "",
         "offsetgroup": "",
         "orientation": "v",
         "showlegend": false,
         "textposition": "auto",
         "type": "bar",
         "x": [
          "Rock",
          "TV Shows",
          "Drama",
          "Latin",
          "Metal",
          "Alternative & Punk",
          "Sci Fi & Fantasy",
          "Jazz",
          "Science Fiction",
          "Comedy",
          "Blues",
          "Classical",
          "Reggae",
          "R&B/Soul",
          "Pop",
          "Alternative",
          "Soundtrack",
          "Electronica/Dance",
          "Heavy Metal",
          "World",
          "Hip Hop/Rap",
          "Easy Listening",
          "Bossa Nova",
          "Rock And Roll",
          "Opera"
         ],
         "xaxis": "x",
         "y": [
          6137,
          3324,
          2746,
          2247,
          1930,
          1296,
          1261,
          632,
          568,
          449,
          364,
          362,
          238,
          223,
          183,
          176,
          175,
          151,
          138,
          104,
          103,
          75,
          54,
          26,
          2
         ],
         "yaxis": "y"
        }
       ],
       "layout": {
        "barmode": "relative",
        "coloraxis": {
         "colorbar": {
          "title": {
           "text": "Суммарная длительность (минуты)"
          }
         },
         "colorscale": [
          [
           0,
           "#0d0887"
          ],
          [
           0.1111111111111111,
           "#46039f"
          ],
          [
           0.2222222222222222,
           "#7201a8"
          ],
          [
           0.3333333333333333,
           "#9c179e"
          ],
          [
           0.4444444444444444,
           "#bd3786"
          ],
          [
           0.5555555555555556,
           "#d8576b"
          ],
          [
           0.6666666666666666,
           "#ed7953"
          ],
          [
           0.7777777777777778,
           "#fb9f3a"
          ],
          [
           0.8888888888888888,
           "#fdca26"
          ],
          [
           1,
           "#f0f921"
          ]
         ]
        },
        "legend": {
         "tracegroupgap": 0
        },
        "template": {
         "data": {
          "bar": [
           {
            "error_x": {
             "color": "#2a3f5f"
            },
            "error_y": {
             "color": "#2a3f5f"
            },
            "marker": {
             "line": {
              "color": "#E5ECF6",
              "width": 0.5
             },
             "pattern": {
              "fillmode": "overlay",
              "size": 10,
              "solidity": 0.2
             }
            },
            "type": "bar"
           }
          ],
          "barpolar": [
           {
            "marker": {
             "line": {
              "color": "#E5ECF6",
              "width": 0.5
             },
             "pattern": {
              "fillmode": "overlay",
              "size": 10,
              "solidity": 0.2
             }
            },
            "type": "barpolar"
           }
          ],
          "carpet": [
           {
            "aaxis": {
             "endlinecolor": "#2a3f5f",
             "gridcolor": "white",
             "linecolor": "white",
             "minorgridcolor": "white",
             "startlinecolor": "#2a3f5f"
            },
            "baxis": {
             "endlinecolor": "#2a3f5f",
             "gridcolor": "white",
             "linecolor": "white",
             "minorgridcolor": "white",
             "startlinecolor": "#2a3f5f"
            },
            "type": "carpet"
           }
          ],
          "choropleth": [
           {
            "colorbar": {
             "outlinewidth": 0,
             "ticks": ""
            },
            "type": "choropleth"
           }
          ],
          "contour": [
           {
            "colorbar": {
             "outlinewidth": 0,
             "ticks": ""
            },
            "colorscale": [
             [
              0,
              "#0d0887"
             ],
             [
              0.1111111111111111,
              "#46039f"
             ],
             [
              0.2222222222222222,
              "#7201a8"
             ],
             [
              0.3333333333333333,
              "#9c179e"
             ],
             [
              0.4444444444444444,
              "#bd3786"
             ],
             [
              0.5555555555555556,
              "#d8576b"
             ],
             [
              0.6666666666666666,
              "#ed7953"
             ],
             [
              0.7777777777777778,
              "#fb9f3a"
             ],
             [
              0.8888888888888888,
              "#fdca26"
             ],
             [
              1,
              "#f0f921"
             ]
            ],
            "type": "contour"
           }
          ],
          "contourcarpet": [
           {
            "colorbar": {
             "outlinewidth": 0,
             "ticks": ""
            },
            "type": "contourcarpet"
           }
          ],
          "heatmap": [
           {
            "colorbar": {
             "outlinewidth": 0,
             "ticks": ""
            },
            "colorscale": [
             [
              0,
              "#0d0887"
             ],
             [
              0.1111111111111111,
              "#46039f"
             ],
             [
              0.2222222222222222,
              "#7201a8"
             ],
             [
              0.3333333333333333,
              "#9c179e"
             ],
             [
              0.4444444444444444,
              "#bd3786"
             ],
             [
              0.5555555555555556,
              "#d8576b"
             ],
             [
              0.6666666666666666,
              "#ed7953"
             ],
             [
              0.7777777777777778,
              "#fb9f3a"
             ],
             [
              0.8888888888888888,
              "#fdca26"
             ],
             [
              1,
              "#f0f921"
             ]
            ],
            "type": "heatmap"
           }
          ],
          "heatmapgl": [
           {
            "colorbar": {
             "outlinewidth": 0,
             "ticks": ""
            },
            "colorscale": [
             [
              0,
              "#0d0887"
             ],
             [
              0.1111111111111111,
              "#46039f"
             ],
             [
              0.2222222222222222,
              "#7201a8"
             ],
             [
              0.3333333333333333,
              "#9c179e"
             ],
             [
              0.4444444444444444,
              "#bd3786"
             ],
             [
              0.5555555555555556,
              "#d8576b"
             ],
             [
              0.6666666666666666,
              "#ed7953"
             ],
             [
              0.7777777777777778,
              "#fb9f3a"
             ],
             [
              0.8888888888888888,
              "#fdca26"
             ],
             [
              1,
              "#f0f921"
             ]
            ],
            "type": "heatmapgl"
           }
          ],
          "histogram": [
           {
            "marker": {
             "pattern": {
              "fillmode": "overlay",
              "size": 10,
              "solidity": 0.2
             }
            },
            "type": "histogram"
           }
          ],
          "histogram2d": [
           {
            "colorbar": {
             "outlinewidth": 0,
             "ticks": ""
            },
            "colorscale": [
             [
              0,
              "#0d0887"
             ],
             [
              0.1111111111111111,
              "#46039f"
             ],
             [
              0.2222222222222222,
              "#7201a8"
             ],
             [
              0.3333333333333333,
              "#9c179e"
             ],
             [
              0.4444444444444444,
              "#bd3786"
             ],
             [
              0.5555555555555556,
              "#d8576b"
             ],
             [
              0.6666666666666666,
              "#ed7953"
             ],
             [
              0.7777777777777778,
              "#fb9f3a"
             ],
             [
              0.8888888888888888,
              "#fdca26"
             ],
             [
              1,
              "#f0f921"
             ]
            ],
            "type": "histogram2d"
           }
          ],
          "histogram2dcontour": [
           {
            "colorbar": {
             "outlinewidth": 0,
             "ticks": ""
            },
            "colorscale": [
             [
              0,
              "#0d0887"
             ],
             [
              0.1111111111111111,
              "#46039f"
             ],
             [
              0.2222222222222222,
              "#7201a8"
             ],
             [
              0.3333333333333333,
              "#9c179e"
             ],
             [
              0.4444444444444444,
              "#bd3786"
             ],
             [
              0.5555555555555556,
              "#d8576b"
             ],
             [
              0.6666666666666666,
              "#ed7953"
             ],
             [
              0.7777777777777778,
              "#fb9f3a"
             ],
             [
              0.8888888888888888,
              "#fdca26"
             ],
             [
              1,
              "#f0f921"
             ]
            ],
            "type": "histogram2dcontour"
           }
          ],
          "mesh3d": [
           {
            "colorbar": {
             "outlinewidth": 0,
             "ticks": ""
            },
            "type": "mesh3d"
           }
          ],
          "parcoords": [
           {
            "line": {
             "colorbar": {
              "outlinewidth": 0,
              "ticks": ""
             }
            },
            "type": "parcoords"
           }
          ],
          "pie": [
           {
            "automargin": true,
            "type": "pie"
           }
          ],
          "scatter": [
           {
            "fillpattern": {
             "fillmode": "overlay",
             "size": 10,
             "solidity": 0.2
            },
            "type": "scatter"
           }
          ],
          "scatter3d": [
           {
            "line": {
             "colorbar": {
              "outlinewidth": 0,
              "ticks": ""
             }
            },
            "marker": {
             "colorbar": {
              "outlinewidth": 0,
              "ticks": ""
             }
            },
            "type": "scatter3d"
           }
          ],
          "scattercarpet": [
           {
            "marker": {
             "colorbar": {
              "outlinewidth": 0,
              "ticks": ""
             }
            },
            "type": "scattercarpet"
           }
          ],
          "scattergeo": [
           {
            "marker": {
             "colorbar": {
              "outlinewidth": 0,
              "ticks": ""
             }
            },
            "type": "scattergeo"
           }
          ],
          "scattergl": [
           {
            "marker": {
             "colorbar": {
              "outlinewidth": 0,
              "ticks": ""
             }
            },
            "type": "scattergl"
           }
          ],
          "scattermapbox": [
           {
            "marker": {
             "colorbar": {
              "outlinewidth": 0,
              "ticks": ""
             }
            },
            "type": "scattermapbox"
           }
          ],
          "scatterpolar": [
           {
            "marker": {
             "colorbar": {
              "outlinewidth": 0,
              "ticks": ""
             }
            },
            "type": "scatterpolar"
           }
          ],
          "scatterpolargl": [
           {
            "marker": {
             "colorbar": {
              "outlinewidth": 0,
              "ticks": ""
             }
            },
            "type": "scatterpolargl"
           }
          ],
          "scatterternary": [
           {
            "marker": {
             "colorbar": {
              "outlinewidth": 0,
              "ticks": ""
             }
            },
            "type": "scatterternary"
           }
          ],
          "surface": [
           {
            "colorbar": {
             "outlinewidth": 0,
             "ticks": ""
            },
            "colorscale": [
             [
              0,
              "#0d0887"
             ],
             [
              0.1111111111111111,
              "#46039f"
             ],
             [
              0.2222222222222222,
              "#7201a8"
             ],
             [
              0.3333333333333333,
              "#9c179e"
             ],
             [
              0.4444444444444444,
              "#bd3786"
             ],
             [
              0.5555555555555556,
              "#d8576b"
             ],
             [
              0.6666666666666666,
              "#ed7953"
             ],
             [
              0.7777777777777778,
              "#fb9f3a"
             ],
             [
              0.8888888888888888,
              "#fdca26"
             ],
             [
              1,
              "#f0f921"
             ]
            ],
            "type": "surface"
           }
          ],
          "table": [
           {
            "cells": {
             "fill": {
              "color": "#EBF0F8"
             },
             "line": {
              "color": "white"
             }
            },
            "header": {
             "fill": {
              "color": "#C8D4E3"
             },
             "line": {
              "color": "white"
             }
            },
            "type": "table"
           }
          ]
         },
         "layout": {
          "annotationdefaults": {
           "arrowcolor": "#2a3f5f",
           "arrowhead": 0,
           "arrowwidth": 1
          },
          "autotypenumbers": "strict",
          "coloraxis": {
           "colorbar": {
            "outlinewidth": 0,
            "ticks": ""
           }
          },
          "colorscale": {
           "diverging": [
            [
             0,
             "#8e0152"
            ],
            [
             0.1,
             "#c51b7d"
            ],
            [
             0.2,
             "#de77ae"
            ],
            [
             0.3,
             "#f1b6da"
            ],
            [
             0.4,
             "#fde0ef"
            ],
            [
             0.5,
             "#f7f7f7"
            ],
            [
             0.6,
             "#e6f5d0"
            ],
            [
             0.7,
             "#b8e186"
            ],
            [
             0.8,
             "#7fbc41"
            ],
            [
             0.9,
             "#4d9221"
            ],
            [
             1,
             "#276419"
            ]
           ],
           "sequential": [
            [
             0,
             "#0d0887"
            ],
            [
             0.1111111111111111,
             "#46039f"
            ],
            [
             0.2222222222222222,
             "#7201a8"
            ],
            [
             0.3333333333333333,
             "#9c179e"
            ],
            [
             0.4444444444444444,
             "#bd3786"
            ],
            [
             0.5555555555555556,
             "#d8576b"
            ],
            [
             0.6666666666666666,
             "#ed7953"
            ],
            [
             0.7777777777777778,
             "#fb9f3a"
            ],
            [
             0.8888888888888888,
             "#fdca26"
            ],
            [
             1,
             "#f0f921"
            ]
           ],
           "sequentialminus": [
            [
             0,
             "#0d0887"
            ],
            [
             0.1111111111111111,
             "#46039f"
            ],
            [
             0.2222222222222222,
             "#7201a8"
            ],
            [
             0.3333333333333333,
             "#9c179e"
            ],
            [
             0.4444444444444444,
             "#bd3786"
            ],
            [
             0.5555555555555556,
             "#d8576b"
            ],
            [
             0.6666666666666666,
             "#ed7953"
            ],
            [
             0.7777777777777778,
             "#fb9f3a"
            ],
            [
             0.8888888888888888,
             "#fdca26"
            ],
            [
             1,
             "#f0f921"
            ]
           ]
          },
          "colorway": [
           "#636efa",
           "#EF553B",
           "#00cc96",
           "#ab63fa",
           "#FFA15A",
           "#19d3f3",
           "#FF6692",
           "#B6E880",
           "#FF97FF",
           "#FECB52"
          ],
          "font": {
           "color": "#2a3f5f"
          },
          "geo": {
           "bgcolor": "white",
           "lakecolor": "white",
           "landcolor": "#E5ECF6",
           "showlakes": true,
           "showland": true,
           "subunitcolor": "white"
          },
          "hoverlabel": {
           "align": "left"
          },
          "hovermode": "closest",
          "mapbox": {
           "style": "light"
          },
          "paper_bgcolor": "white",
          "plot_bgcolor": "#E5ECF6",
          "polar": {
           "angularaxis": {
            "gridcolor": "white",
            "linecolor": "white",
            "ticks": ""
           },
           "bgcolor": "#E5ECF6",
           "radialaxis": {
            "gridcolor": "white",
            "linecolor": "white",
            "ticks": ""
           }
          },
          "scene": {
           "xaxis": {
            "backgroundcolor": "#E5ECF6",
            "gridcolor": "white",
            "gridwidth": 2,
            "linecolor": "white",
            "showbackground": true,
            "ticks": "",
            "zerolinecolor": "white"
           },
           "yaxis": {
            "backgroundcolor": "#E5ECF6",
            "gridcolor": "white",
            "gridwidth": 2,
            "linecolor": "white",
            "showbackground": true,
            "ticks": "",
            "zerolinecolor": "white"
           },
           "zaxis": {
            "backgroundcolor": "#E5ECF6",
            "gridcolor": "white",
            "gridwidth": 2,
            "linecolor": "white",
            "showbackground": true,
            "ticks": "",
            "zerolinecolor": "white"
           }
          },
          "shapedefaults": {
           "line": {
            "color": "#2a3f5f"
           }
          },
          "ternary": {
           "aaxis": {
            "gridcolor": "white",
            "linecolor": "white",
            "ticks": ""
           },
           "baxis": {
            "gridcolor": "white",
            "linecolor": "white",
            "ticks": ""
           },
           "bgcolor": "#E5ECF6",
           "caxis": {
            "gridcolor": "white",
            "linecolor": "white",
            "ticks": ""
           }
          },
          "title": {
           "x": 0.05
          },
          "xaxis": {
           "automargin": true,
           "gridcolor": "white",
           "linecolor": "white",
           "ticks": "",
           "title": {
            "standoff": 15
           },
           "zerolinecolor": "white",
           "zerolinewidth": 2
          },
          "yaxis": {
           "automargin": true,
           "gridcolor": "white",
           "linecolor": "white",
           "ticks": "",
           "title": {
            "standoff": 15
           },
           "zerolinecolor": "white",
           "zerolinewidth": 2
          }
         }
        },
        "title": {
         "text": "Общая длительность треков по жанрам (в минутах)"
        },
        "xaxis": {
         "anchor": "y",
         "domain": [
          0,
          1
         ],
         "title": {
          "text": "Жанр"
         }
        },
        "yaxis": {
         "anchor": "x",
         "domain": [
          0,
          1
         ],
         "title": {
          "text": "Суммарная длительность (минуты)"
         }
        }
       }
      }
     },
     "metadata": {},
     "output_type": "display_data"
    }
   ],
   "source": [
    "import plotly.express as px\n",
    "\n",
    "fig = px.bar(df, x='genre', y='totalminutes', \n",
    "             title='Общая длительность треков по жанрам (в минутах)',\n",
    "             labels={'genre': 'Жанр', 'totalminutes': 'Суммарная длительность (минуты)'},\n",
    "             color='totalminutes')\n",
    "\n",
    "fig.show()"
   ]
  },
  {
   "cell_type": "markdown",
   "metadata": {},
   "source": [
    "## Задание 2."
   ]
  },
  {
   "cell_type": "code",
   "execution_count": 3,
   "metadata": {},
   "outputs": [],
   "source": [
    "connection_string = read_credentials()\n",
    "engine = db.create_engine(connection_string)\n",
    "conn = engine.connect()\n",
    "\n",
    "query = \"\"\"\n",
    "select \n",
    "    round(t.milliseconds/60000., 2) as minutes\n",
    "    , round(t.bytes/1024/1024., 2) as megabytes\n",
    "from track t;\n",
    "\"\"\"\n",
    "\n",
    "df2 = pd.read_sql_query(query, conn)\n",
    "conn.close()"
   ]
  },
  {
   "cell_type": "code",
   "execution_count": 5,
   "metadata": {},
   "outputs": [
    {
     "data": {
      "application/vnd.plotly.v1+json": {
       "config": {
        "plotlyServerURL": "https://plot.ly"
       },
       "data": [
        {
         "hovertemplate": "Длительность в минутах=%{x}<br>Размер в мегабайтах=%{y}<extra></extra>",
         "legendgroup": "",
         "marker": {
          "color": "#636efa",
          "symbol": "circle"
         },
         "mode": "markers",
         "name": "",
         "showlegend": false,
         "type": "scattergl",
         "x": [
          5.73,
          5.71,
          3.84,
          4.2,
          6.26,
          3.43,
          3.9,
          3.51,
          3.39,
          4.39,
          3.33,
          4.39,
          3.43,
          4.51,
          5.52,
          3.59,
          6.11,
          4.46,
          5.42,
          6.16,
          4.24,
          5.4,
          4.93,
          5.36,
          4.41,
          5.18,
          4.41,
          5.51,
          5.15,
          5.94,
          4.01,
          3.6,
          4.07,
          5.28,
          4.18,
          5.13,
          6.35,
          4.75,
          4.15,
          3.14,
          3.69,
          2.94,
          5.01,
          3.99,
          4.46,
          4.68,
          3.83,
          3.79,
          4.89,
          8.2,
          2.53,
          4.78,
          5.83,
          4.03,
          3.72,
          6.45,
          4.63,
          4.75,
          3.27,
          5.74,
          4.37,
          4.06,
          3.09,
          4.75,
          2.29,
          2.83,
          4.2,
          2.15,
          4.22,
          2.25,
          3.66,
          2.83,
          3.43,
          2.11,
          6.11,
          4.53,
          3.7,
          7.27,
          6.24,
          5.38,
          4.8,
          5.13,
          6.16,
          5.84,
          3.71,
          4.63,
          4.66,
          4.16,
          4.9,
          4.39,
          5.72,
          5.58,
          3.43,
          3.44,
          5.49,
          5.06,
          4.99,
          5.29,
          4.26,
          4.85,
          4.66,
          4.26,
          3.89,
          4.61,
          3.96,
          3.89,
          4.56,
          4.64,
          4.99,
          5.16,
          2.46,
          1.77,
          1.93,
          2.69,
          2.29,
          2.34,
          2.37,
          2.72,
          2.39,
          2.4,
          1.77,
          1.8,
          4.36,
          7.6,
          4.13,
          4.9,
          9.7,
          5.3,
          4.1,
          4.57,
          5.39,
          4.12,
          5.01,
          3.93,
          5.32,
          4.56,
          4.73,
          4.12,
          4.44,
          4.7,
          5.99,
          9.25,
          6.09,
          3.25,
          7,
          4.61,
          4.74,
          4.53,
          6.37,
          4.41,
          3.63,
          6.15,
          3.42,
          10.74,
          3.53,
          8.24,
          4.34,
          3.21,
          4.77,
          1.72,
          4.76,
          5.53,
          3.91,
          2.88,
          2.49,
          5.84,
          0.79,
          3.4,
          0.08,
          5.3,
          0.11,
          3.72,
          0.19,
          2.88,
          1.6,
          5.01,
          6.54,
          5.84,
          0.11,
          3.98,
          2.77,
          6.19,
          4.69,
          4.72,
          4.1,
          4.75,
          4.49,
          8.24,
          4.42,
          6.71,
          5.99,
          5.69,
          8.49,
          3.96,
          2.34,
          2.92,
          7.22,
          3.96,
          3.92,
          3.41,
          2.28,
          2.77,
          3.04,
          2.25,
          9.83,
          2.96,
          1.66,
          2.48,
          8.04,
          3.7,
          1.4,
          2.22,
          2.6,
          2.41,
          3.03,
          3.18,
          3.72,
          4.91,
          4.99,
          2.35,
          4.2,
          5.12,
          4.7,
          7.28,
          3.25,
          5.47,
          2.72,
          2.79,
          6.16,
          2.71,
          4.72,
          3.16,
          2.87,
          2.79,
          3.11,
          3.91,
          2.21,
          3.04,
          2.92,
          3.57,
          5.29,
          2.83,
          2.32,
          2.55,
          6.38,
          0.55,
          3.35,
          2.54,
          2.53,
          4.16,
          4,
          3.79,
          4.74,
          1.65,
          3.88,
          4,
          3.24,
          2.11,
          2.54,
          2.2,
          1.48,
          1.19,
          3.47,
          2.92,
          4.54,
          4.55,
          3.5,
          3.69,
          5.12,
          4.06,
          4.78,
          3.61,
          3.06,
          4.53,
          4.19,
          1.48,
          3.59,
          4.14,
          1.76,
          3.22,
          6.74,
          4.16,
          3.85,
          4.24,
          3.24,
          3.7,
          5.07,
          3.94,
          3.87,
          4.15,
          3.46,
          3.69,
          4.27,
          2.88,
          4.29,
          3.25,
          3.76,
          3.86,
          4.97,
          3.45,
          4.75,
          4.7,
          4.08,
          3.76,
          3.21,
          4.01,
          2.97,
          4.83,
          4,
          4.46,
          4.55,
          3.52,
          5.19,
          4.08,
          4.22,
          4.08,
          4.23,
          4.4,
          3.84,
          4.6,
          4.44,
          3.58,
          3.42,
          3.31,
          3.24,
          3.14,
          3.85,
          3.45,
          3.5,
          3.17,
          3.57,
          3.51,
          3.28,
          3.44,
          3.39,
          2.78,
          5.27,
          4.4,
          3.21,
          6.7,
          3.06,
          4.34,
          2.69,
          5.2,
          6.22,
          2.13,
          3.09,
          6.34,
          10.32,
          11.86,
          3.91,
          5.99,
          2.85,
          3.07,
          4.54,
          2.41,
          11.29,
          1.48,
          5.55,
          4.61,
          4.57,
          4.71,
          4.75,
          4.74,
          4.71,
          4.72,
          4.58,
          4.8,
          4.74,
          4.14,
          4.75,
          4.69,
          4.94,
          4.13,
          4.14,
          3.75,
          4.39,
          4.53,
          2.44,
          4.7,
          2.99,
          4.38,
          3.26,
          3.07,
          2.94,
          3.95,
          4.09,
          3.01,
          2.35,
          3.56,
          4.66,
          3.55,
          5.23,
          2.84,
          2.63,
          3.97,
          4.66,
          6.19,
          4.53,
          2.77,
          4.67,
          3.96,
          4.5,
          3.56,
          2.71,
          3.43,
          6.49,
          2.59,
          3.57,
          6.34,
          6.11,
          2.49,
          7.88,
          11.2,
          6.63,
          5.08,
          9.1,
          4.8,
          4.38,
          3.94,
          5.73,
          4.03,
          4.32,
          6.46,
          4.16,
          4.15,
          4.96,
          4.55,
          4.92,
          4.13,
          3.98,
          3.67,
          4.15,
          4.4,
          4.04,
          3.65,
          5.24,
          3.6,
          4.04,
          3.27,
          3.08,
          3.6,
          3.79,
          3.58,
          4.14,
          4.52,
          3.66,
          4.26,
          3.76,
          2.78,
          3.21,
          2.89,
          4.37,
          3.46,
          5.34,
          4.56,
          5.25,
          4.93,
          4.45,
          4.56,
          4.79,
          4.94,
          5.18,
          5.28,
          4.97,
          4.81,
          4.57,
          2.79,
          2.64,
          3.9,
          3.74,
          3.03,
          2.97,
          2.24,
          2.85,
          2.26,
          3.22,
          1.51,
          2.52,
          2.26,
          2.86,
          2.56,
          3.3,
          2.84,
          2.81,
          3.7,
          3.21,
          3.56,
          1.27,
          7.33,
          4.21,
          5.78,
          5.75,
          4.86,
          4.88,
          6.53,
          4.98,
          5.99,
          4.73,
          3.99,
          3.37,
          3.66,
          3.28,
          4.32,
          2.83,
          4.27,
          4.16,
          2.59,
          3.79,
          3.71,
          3.45,
          3.03,
          3.02,
          3.45,
          3.7,
          4.05,
          3.27,
          4.33,
          7.03,
          6.25,
          2.46,
          3.22,
          3.08,
          4.99,
          3.07,
          5.9,
          6.69,
          2.82,
          4.02,
          4.8,
          2.45,
          2.95,
          8.64,
          2.09,
          4.75,
          3.25,
          3.13,
          2.84,
          3.15,
          3.72,
          3.7,
          6.38,
          7.57,
          4.62,
          5.65,
          3.89,
          12.64,
          10.3,
          13.4,
          4.23,
          5.62,
          11.1,
          4.04,
          5.61,
          8.48,
          5.65,
          5.45,
          5.74,
          4.36,
          5.65,
          5.1,
          4.97,
          5.52,
          5.12,
          5.33,
          5.86,
          4.49,
          5.58,
          4.33,
          5.89,
          5.8,
          4.75,
          4.71,
          4.97,
          5.91,
          4.38,
          5.48,
          4.6,
          4.88,
          4.85,
          6.31,
          12.46,
          4.12,
          3.84,
          4.77,
          3.38,
          4.07,
          3.77,
          3.03,
          3.97,
          3.3,
          4.68,
          4.92,
          5.39,
          3.63,
          3.97,
          3.29,
          3.22,
          5.75,
          3.86,
          13.46,
          5.96,
          7.93,
          4.63,
          2.81,
          3.34,
          9.4,
          3.9,
          9.07,
          15.13,
          5.51,
          7.89,
          8.12,
          14.07,
          3.27,
          5.28,
          4.06,
          3.68,
          6.31,
          19.93,
          15.23,
          14.25,
          12.73,
          3.1,
          5.8,
          3.19,
          3.13,
          3.05,
          3,
          3.4,
          3.36,
          3.22,
          2.99,
          3.16,
          3.23,
          2.94,
          2.72,
          4.82,
          4.71,
          3.62,
          4.67,
          3.31,
          3.33,
          3.36,
          3.19,
          6.83,
          6.54,
          2.81,
          2.84,
          3.42,
          3.66,
          2.29,
          3.77,
          4.07,
          2.7,
          3.18,
          3,
          3.53,
          3.54,
          2.71,
          3.85,
          2.73,
          4.58,
          2.88,
          4.33,
          4.3,
          4.06,
          3.45,
          3.97,
          4.08,
          1.95,
          2.17,
          2.91,
          2.39,
          4.59,
          4.53,
          3.15,
          2.34,
          3.19,
          2.57,
          2.71,
          2.75,
          2.34,
          2.16,
          2.49,
          2.71,
          3.1,
          2.55,
          3.55,
          11.08,
          2.67,
          2.71,
          2.92,
          3.99,
          4.69,
          4.07,
          5.28,
          2.73,
          3.65,
          4.94,
          3.17,
          2.97,
          2.95,
          2.2,
          4.23,
          3.46,
          2.34,
          6.43,
          3.81,
          3.96,
          2.72,
          5.71,
          3.5,
          2.21,
          3.54,
          4.06,
          4.2,
          3.8,
          3.41,
          3.34,
          3.45,
          4.13,
          4.5,
          3.25,
          3.21,
          3.54,
          2.53,
          4.98,
          4.64,
          4.13,
          4.2,
          5.28,
          3.79,
          3.79,
          2.91,
          3.23,
          3.27,
          4.57,
          3.16,
          4.31,
          4.29,
          3.53,
          4.47,
          3.14,
          3.93,
          2.8,
          3.63,
          3.85,
          4.4,
          4.05,
          3.14,
          6.17,
          5.32,
          4.41,
          4.27,
          10.34,
          7.97,
          3.5,
          4.58,
          7.19,
          3.41,
          6.92,
          4.12,
          4.74,
          5.37,
          8.34,
          6.43,
          7.08,
          5.13,
          10.05,
          4.05,
          6.15,
          5.35,
          4.92,
          4.9,
          3.55,
          7.74,
          5.69,
          6.15,
          4.84,
          5.06,
          4,
          5.68,
          7.37,
          4.55,
          4.29,
          5.99,
          4.8,
          7.53,
          4.73,
          5.35,
          5.21,
          5.19,
          4.61,
          5.45,
          5.9,
          4.16,
          4.73,
          5.47,
          5.71,
          4.73,
          5.25,
          5.29,
          3.79,
          5.82,
          4.3,
          6.56,
          4.11,
          4.4,
          4.5,
          5.11,
          3.36,
          3.4,
          4.46,
          4.05,
          3.23,
          5.95,
          4,
          6.54,
          4.13,
          5.85,
          5.57,
          4.29,
          4.61,
          4.7,
          4.65,
          4.88,
          4.14,
          5.78,
          4.93,
          4.33,
          4.08,
          3.57,
          4.12,
          4.29,
          3.68,
          4.26,
          5.37,
          5.32,
          4.14,
          5.92,
          4.54,
          5.36,
          7.06,
          5.32,
          6.15,
          6.15,
          4.53,
          10.99,
          5.78,
          6.01,
          4.5,
          4.26,
          5.08,
          5.65,
          3.53,
          4.46,
          3.55,
          4.68,
          4.77,
          5.19,
          4.57,
          4.73,
          5.46,
          5.52,
          5.62,
          3.62,
          4.52,
          4.92,
          3.94,
          3.53,
          4.23,
          4.63,
          5.79,
          4.47,
          4.74,
          3.72,
          3.1,
          2.78,
          4.38,
          2.85,
          4.05,
          4.02,
          3.58,
          3.01,
          4.64,
          4.12,
          2.62,
          3.88,
          4.84,
          7.18,
          2.73,
          2.91,
          4.21,
          4.22,
          2.8,
          5.03,
          5.08,
          3.6,
          4.4,
          3.19,
          3.47,
          3.86,
          4.41,
          3.69,
          4.95,
          3.01,
          4.16,
          3.23,
          3.74,
          3.27,
          4.58,
          5.48,
          3.86,
          4.76,
          6.32,
          3.77,
          3.71,
          3.39,
          3.61,
          7.88,
          4.2,
          3.41,
          4.5,
          4.19,
          2.15,
          5.44,
          3.81,
          3.62,
          3.5,
          2.35,
          4.29,
          1.98,
          3.88,
          3.73,
          4.47,
          4.39,
          3.72,
          5.18,
          4.56,
          4.02,
          4.51,
          3.71,
          4.95,
          4.65,
          6.64,
          4.2,
          3.1,
          2.29,
          4.49,
          4.89,
          3.49,
          3.4,
          3.72,
          4.04,
          3.11,
          3.09,
          4.98,
          6.6,
          2.64,
          4.46,
          5.61,
          3.03,
          3.38,
          4.9,
          5.27,
          2.45,
          6.01,
          8.23,
          3.87,
          3.73,
          5.68,
          7.75,
          4.17,
          0.56,
          3.95,
          4.49,
          3.7,
          3.7,
          2.82,
          2.39,
          5.92,
          1.95,
          3.87,
          3.56,
          4.52,
          3.03,
          2.91,
          3.84,
          3.28,
          4.26,
          4.2,
          1.95,
          3.33,
          4.65,
          4.81,
          3.97,
          5.87,
          5.22,
          5.05,
          3.49,
          4.43,
          3.22,
          5.27,
          4.53,
          3.82,
          3.35,
          4.89,
          4.39,
          4.47,
          4.97,
          4.44,
          4.56,
          5.19,
          5.11,
          4.62,
          4.51,
          4.97,
          7.83,
          1.39,
          3.86,
          4.14,
          3.56,
          2.54,
          2.26,
          4.34,
          2.45,
          2.62,
          4.82,
          4.18,
          5.06,
          5.7,
          4.6,
          2.6,
          3.43,
          3.24,
          2.64,
          3.32,
          2.5,
          2.92,
          2.85,
          1.5,
          2.69,
          3.14,
          2.49,
          3.51,
          2.89,
          4.44,
          3.17,
          3.12,
          3.23,
          3.07,
          2.83,
          4.87,
          3.4,
          3.22,
          2.99,
          3.83,
          3.95,
          3.94,
          5.36,
          5.02,
          4.07,
          3.7,
          5.38,
          5.41,
          4.14,
          3.56,
          8.77,
          3.19,
          1.25,
          4.87,
          3.66,
          4.13,
          4.35,
          3.7,
          3.34,
          3.62,
          3.41,
          3.33,
          3.19,
          4.52,
          2.48,
          3.49,
          4.35,
          0.54,
          2.57,
          3.97,
          4.92,
          4.71,
          3.94,
          4.15,
          5.96,
          4.76,
          4.39,
          3.86,
          4.33,
          4.83,
          5.28,
          3.71,
          3.92,
          5.94,
          4.91,
          4.42,
          5.41,
          4.36,
          3.64,
          4.41,
          5.3,
          5.02,
          4.88,
          4.92,
          3.76,
          4.75,
          5.05,
          4.75,
          4.4,
          4.51,
          4.64,
          3.63,
          4.32,
          3.6,
          4.33,
          4.14,
          4.1,
          4.35,
          4.12,
          4.21,
          4.19,
          3.99,
          1.49,
          4.58,
          2.91,
          9.14,
          3.88,
          4.35,
          2.72,
          2.92,
          3.43,
          2.01,
          3.57,
          4.1,
          4.76,
          9.31,
          4.21,
          4.56,
          3.38,
          4.48,
          4.4,
          3.82,
          6.77,
          3.67,
          3.86,
          5.94,
          3.29,
          3.44,
          6.26,
          3.04,
          4.97,
          3.07,
          4.75,
          2.39,
          2.6,
          5.47,
          5.06,
          3.39,
          8.96,
          5.37,
          2.69,
          5.32,
          4.47,
          4.29,
          10.28,
          7.69,
          4.36,
          3.27,
          5.61,
          5.68,
          3.39,
          7.08,
          4.79,
          8.71,
          4.11,
          9.4,
          5.73,
          4.74,
          1.41,
          6.02,
          4.19,
          5.35,
          6.61,
          4.04,
          5.52,
          4.16,
          4.33,
          6.32,
          5.92,
          6.13,
          8.81,
          6.29,
          4.31,
          6.87,
          8.77,
          5.13,
          7.8,
          5.61,
          7.37,
          9.41,
          7.41,
          9.38,
          7.19,
          4.91,
          3.92,
          4.26,
          4.43,
          5.88,
          4.82,
          4.89,
          3.82,
          3.96,
          5.62,
          5.41,
          7.86,
          3.28,
          4.33,
          4.71,
          5.8,
          4.16,
          5.43,
          6.8,
          5.3,
          7.48,
          4.5,
          7.19,
          4.59,
          6.83,
          6.32,
          7.24,
          4.71,
          9.35,
          4.01,
          9.1,
          6.43,
          8.45,
          3.88,
          3.81,
          7.36,
          5.84,
          8.61,
          5.2,
          5.08,
          8.47,
          6.52,
          6.17,
          7.12,
          3.41,
          3.64,
          6.94,
          5.59,
          4.68,
          5.85,
          4.9,
          3.62,
          3.91,
          3.15,
          5.66,
          7.28,
          3.94,
          3.27,
          5.48,
          3.29,
          7.13,
          4.32,
          5.54,
          4.21,
          3.6,
          1.77,
          2.91,
          4.31,
          3.38,
          3.12,
          3.88,
          5.02,
          6.21,
          3.34,
          4.81,
          0.8,
          4.61,
          6.11,
          4.48,
          6.2,
          3.83,
          13.16,
          7.58,
          4.59,
          7.52,
          4.37,
          3.86,
          3.41,
          3.06,
          6.33,
          4.64,
          5.24,
          7.35,
          3.89,
          4.9,
          2.9,
          4.74,
          3.55,
          5.62,
          4.13,
          7.97,
          6.88,
          7.19,
          6.28,
          4.37,
          7.34,
          3.93,
          5.64,
          8.24,
          7.46,
          3.88,
          5.31,
          7.9,
          4.26,
          3.82,
          4.4,
          4.24,
          4.18,
          4.31,
          4.59,
          4.13,
          4.74,
          5.54,
          6.16,
          6.81,
          3.84,
          5.43,
          4.19,
          4.91,
          3.69,
          3.44,
          7.42,
          4.49,
          6,
          4.21,
          4.05,
          6.11,
          5.34,
          6.8,
          13.61,
          1.93,
          4.7,
          6.81,
          6.11,
          3.1,
          6.45,
          7.26,
          10.82,
          4.71,
          4.56,
          9.64,
          9.32,
          4.68,
          7.68,
          5.86,
          5.01,
          7.4,
          5.29,
          4.87,
          5.68,
          6.15,
          3.52,
          4.57,
          9.89,
          5.09,
          4.45,
          4.68,
          7.43,
          5.13,
          5.7,
          7.36,
          5.74,
          8.59,
          4.94,
          6.52,
          6.59,
          4.57,
          3.81,
          7.14,
          3.39,
          3.81,
          4.89,
          6.02,
          11.3,
          5.06,
          4.22,
          7.4,
          5.17,
          6.35,
          5.21,
          5.96,
          6.66,
          5.63,
          8.17,
          2.93,
          9.88,
          4.84,
          8.99,
          6.29,
          6.75,
          8.06,
          5.5,
          2.75,
          2.78,
          3.54,
          2.4,
          2.12,
          2.79,
          2.8,
          2.87,
          2.79,
          5.28,
          3.64,
          3.27,
          3.63,
          3.6,
          4.18,
          3.98,
          4.71,
          5.57,
          3.14,
          4.35,
          3.84,
          6.1,
          4.6,
          4.88,
          6.38,
          4.09,
          4.12,
          8.54,
          10.28,
          2.62,
          5.53,
          4.74,
          5.69,
          4.26,
          3.75,
          5.67,
          5.26,
          4.48,
          5.23,
          3.69,
          4.7,
          8.83,
          4.28,
          4.83,
          5.91,
          6.37,
          5.17,
          5.49,
          7.04,
          5.37,
          6.4,
          6.43,
          1.87,
          3.56,
          3.28,
          3.85,
          4.13,
          4.34,
          4.54,
          2.94,
          4.05,
          4.51,
          2.38,
          4.7,
          4.51,
          3.32,
          3.71,
          3.74,
          2.55,
          3.22,
          3.92,
          3.19,
          2.75,
          6.74,
          2.8,
          4.24,
          3.5,
          3.6,
          2.86,
          3.27,
          3.34,
          3.54,
          4.4,
          4,
          5.25,
          3.37,
          3.23,
          1.81,
          3.48,
          4.8,
          1.71,
          5.63,
          5.17,
          5.92,
          4.72,
          5.72,
          5.29,
          7.54,
          6.12,
          6.49,
          5.44,
          3.19,
          5.63,
          6.33,
          3.79,
          4.83,
          4.2,
          4.26,
          5.01,
          4.22,
          4.5,
          4.5,
          3.73,
          3.82,
          4.45,
          2.13,
          4.17,
          5.27,
          4.74,
          3.17,
          3.84,
          3.04,
          4.02,
          4.51,
          4.2,
          4.48,
          3.55,
          1.98,
          3.39,
          3.47,
          3.02,
          3.68,
          3.43,
          3.55,
          2.4,
          3.29,
          4.61,
          0.7,
          3.7,
          5.09,
          5.59,
          4.43,
          4.17,
          4.84,
          4.87,
          3.66,
          7.18,
          4.7,
          2.87,
          3.3,
          3.63,
          3.23,
          3.77,
          4.24,
          2.96,
          3.34,
          2.44,
          6.16,
          4.73,
          5.21,
          2.84,
          3.71,
          4.33,
          3.35,
          5.27,
          6.94,
          5.29,
          18.61,
          8.83,
          3.91,
          5.72,
          13.75,
          6.64,
          2.63,
          3.04,
          4.3,
          4.51,
          3.6,
          5.12,
          4.32,
          5.5,
          5.5,
          7.65,
          4.83,
          3.29,
          3.72,
          4.38,
          7.01,
          4.52,
          6.84,
          4.24,
          6.22,
          3.29,
          10.57,
          5.94,
          5.49,
          4.94,
          3.68,
          5.86,
          8.03,
          4.65,
          4.74,
          3.59,
          7.13,
          2.77,
          6.69,
          6.47,
          6.43,
          4.58,
          2.21,
          2.5,
          4.71,
          8.47,
          5.57,
          4.8,
          6.32,
          4.8,
          4.23,
          2.65,
          4.59,
          4.35,
          4.33,
          2.41,
          3.89,
          3.49,
          7.4,
          4.1,
          4.94,
          3.16,
          5.62,
          4.33,
          3.66,
          8.78,
          2.11,
          5.27,
          6.55,
          3.63,
          4.16,
          3.89,
          4.55,
          4.72,
          10.43,
          6.41,
          2.99,
          6.27,
          4.2,
          4.74,
          9.45,
          4.04,
          3.83,
          5.89,
          8.43,
          26.87,
          12.5,
          10.95,
          12.77,
          14.4,
          3.93,
          4.64,
          4.34,
          4.44,
          4.67,
          4.13,
          5.43,
          4.92,
          5.4,
          3.39,
          5.38,
          4.84,
          4.36,
          2.9,
          4.29,
          2.47,
          3.95,
          2.36,
          4.52,
          5.04,
          4.3,
          2.96,
          9.05,
          3.29,
          5.14,
          3.4,
          6.11,
          4.61,
          3.37,
          5.36,
          3.15,
          3.53,
          3.7,
          3.4,
          3.82,
          4.05,
          4.56,
          3.84,
          4.36,
          4.33,
          3.88,
          3.17,
          4.29,
          4.92,
          5.71,
          4.85,
          3.51,
          4.36,
          3.96,
          3.94,
          4.05,
          5.13,
          4.39,
          3.01,
          3.76,
          3.47,
          3.6,
          3.23,
          5.77,
          3.23,
          4.68,
          4.1,
          2.48,
          3.63,
          2.45,
          3.27,
          3.8,
          4.6,
          4.11,
          4.63,
          4.35,
          3.27,
          3.16,
          3.87,
          2.25,
          3.91,
          2.56,
          5.94,
          6.1,
          2.22,
          1.88,
          9.5,
          4.55,
          2.39,
          2.27,
          3.6,
          2.43,
          2.88,
          3.05,
          3.83,
          0.75,
          3.21,
          3.48,
          3.29,
          4.16,
          3.65,
          2.16,
          3.39,
          4.59,
          2.65,
          2.97,
          4.86,
          2.28,
          2.48,
          2.69,
          2.29,
          2.54,
          2.37,
          2.77,
          3.25,
          3.72,
          2.94,
          3.51,
          2.87,
          4.55,
          3.25,
          3.64,
          5.24,
          3.93,
          3.8,
          3.7,
          3.76,
          3.61,
          3.61,
          6.8,
          3.37,
          4.56,
          4.64,
          3.3,
          6.03,
          5.54,
          5.41,
          3.8,
          6.45,
          6.74,
          4.01,
          4.07,
          6.48,
          4.28,
          5.14,
          6.83,
          3.9,
          6.64,
          6.72,
          4.92,
          3.17,
          3.5,
          7.84,
          3.61,
          5.69,
          4.43,
          2.3,
          3.15,
          3.06,
          4.09,
          3.67,
          4.87,
          3.2,
          4.29,
          7.22,
          3.14,
          4.69,
          4.25,
          4.15,
          5.03,
          6.45,
          6.93,
          5.19,
          5.07,
          5.47,
          6.65,
          4.5,
          5.47,
          4.37,
          8.3,
          4.91,
          4,
          3.95,
          5.33,
          5.86,
          5.29,
          9.81,
          5.21,
          8.59,
          6.6,
          6.45,
          8.28,
          5.79,
          8.33,
          5.52,
          4.49,
          4.66,
          5.32,
          6.59,
          5.38,
          5.22,
          6.21,
          4.09,
          6.91,
          6.08,
          7.63,
          5.26,
          8.27,
          4.76,
          6.63,
          5.2,
          6.91,
          4.08,
          4.41,
          6.61,
          8.91,
          5.84,
          7.35,
          8.43,
          5.42,
          8.5,
          5.76,
          7.17,
          5.45,
          7.16,
          5.23,
          8.8,
          6.72,
          9.76,
          6.43,
          7.44,
          6.59,
          5.76,
          7.73,
          9.81,
          5.23,
          3.46,
          3.89,
          3.58,
          4.47,
          3.5,
          5.31,
          4.61,
          2.81,
          2.24,
          3.19,
          3.27,
          3.54,
          5.16,
          3.2,
          3.98,
          3.67,
          3.29,
          3.49,
          4.09,
          4.6,
          3.33,
          2.59,
          3.59,
          5.12,
          2.6,
          5.36,
          1.21,
          2.54,
          4.63,
          3.83,
          4.48,
          4.19,
          4.55,
          4.43,
          4.77,
          3.5,
          2.26,
          2.22,
          6.9,
          3.43,
          2.83,
          3.39,
          2.67,
          3.63,
          3.39,
          3.21,
          2.74,
          3.57,
          2.64,
          1.64,
          4.31,
          2.8,
          2.94,
          2.83,
          3.01,
          3.91,
          4.26,
          3.91,
          3.65,
          3.45,
          4.21,
          3.25,
          4.09,
          3.97,
          4.16,
          4.58,
          0.65,
          4.45,
          4.5,
          4.5,
          4.73,
          4.61,
          5.67,
          4.71,
          4.24,
          3.95,
          4.13,
          4.67,
          4.48,
          3.45,
          4.77,
          3.35,
          4.02,
          3.7,
          0.87,
          2.67,
          3.59,
          4.53,
          4.79,
          2.13,
          4.17,
          1.94,
          3.17,
          3.52,
          4.7,
          3.76,
          2.73,
          2.5,
          3.47,
          1.93,
          3.61,
          5.02,
          4.25,
          3.65,
          3.07,
          4.28,
          2.95,
          2.39,
          3.73,
          2.61,
          3.54,
          3.27,
          3.84,
          1.61,
          3.49,
          3.72,
          2.69,
          4.45,
          3.9,
          4.38,
          3.63,
          4.31,
          4.74,
          5.11,
          5.5,
          5.5,
          3.58,
          3.32,
          4.01,
          3.14,
          3.89,
          4.2,
          3.81,
          4.09,
          2.66,
          2.44,
          3.53,
          3.62,
          3.84,
          3.74,
          3.43,
          3.93,
          4.78,
          3.76,
          2.72,
          3.08,
          3.05,
          3.44,
          4.08,
          4.01,
          3.47,
          3.14,
          2.48,
          2.97,
          3.32,
          3.61,
          4.38,
          3.04,
          4.26,
          3.81,
          4.32,
          3.39,
          4.28,
          3.86,
          3.66,
          3.06,
          2.66,
          3.21,
          2.94,
          3.63,
          3.3,
          3.38,
          3.77,
          4.02,
          4.3,
          3.52,
          3.65,
          3.8,
          5.04,
          3.17,
          3.47,
          3.5,
          3.15,
          3.47,
          2.69,
          3.83,
          4.59,
          4.1,
          4.17,
          5.62,
          2.48,
          4.29,
          5.22,
          4.93,
          4.85,
          4.19,
          7.41,
          4.72,
          5.38,
          5.15,
          5.74,
          4.35,
          5.82,
          8.1,
          7.78,
          2.87,
          5.95,
          2.94,
          5.57,
          4.15,
          4.36,
          4.01,
          6.22,
          3.87,
          6.75,
          4.37,
          5.61,
          3.85,
          5.31,
          5.36,
          5.76,
          5.59,
          4.11,
          5.5,
          4.69,
          5.47,
          6.4,
          2.01,
          3.54,
          5.68,
          3.42,
          4.66,
          3.58,
          3,
          3.69,
          3.4,
          3.11,
          2.84,
          5.17,
          4,
          4.31,
          3.17,
          5.44,
          3.31,
          3.33,
          6.97,
          3.92,
          5.09,
          3.89,
          3.73,
          6.79,
          3.82,
          2.05,
          2.47,
          2.69,
          4.05,
          5.29,
          5.72,
          4.64,
          3.76,
          4.1,
          6.93,
          6.29,
          3.91,
          3.49,
          2.33,
          4.51,
          4.39,
          3.61,
          3.07,
          2.98,
          4.16,
          0.9,
          3.76,
          5.5,
          7.14,
          3.66,
          3.84,
          4.61,
          3.86,
          3.25,
          3.6,
          4.17,
          4.51,
          2.64,
          2.69,
          3.58,
          3.96,
          4.18,
          1.09,
          4.63,
          3.86,
          4.9,
          5.68,
          3.34,
          5.73,
          5.32,
          2.7,
          3.51,
          4.99,
          4.31,
          9.1,
          3.22,
          2.82,
          3.93,
          3.45,
          3.59,
          5.99,
          2.84,
          4.74,
          4.26,
          3.27,
          3.15,
          5.03,
          4.05,
          3.69,
          4.61,
          3.84,
          3.69,
          4.43,
          4,
          4.34,
          5.89,
          3.55,
          3.91,
          5.16,
          6.11,
          3.9,
          3.58,
          7.09,
          4.73,
          6.53,
          7.68,
          3.43,
          3.84,
          2.09,
          5.26,
          2.88,
          2.53,
          0.48,
          2.75,
          3.55,
          3.38,
          2.87,
          3.09,
          1.68,
          3.29,
          3.37,
          2.03,
          3.43,
          2.03,
          6.84,
          5.98,
          3.62,
          3.03,
          3.41,
          3.06,
          2.87,
          3.53,
          3.81,
          2.74,
          4.96,
          4.26,
          2.93,
          3.56,
          2.81,
          2.84,
          2.05,
          3.02,
          2.04,
          3.05,
          3.46,
          3.17,
          4.59,
          3.08,
          3.85,
          3.12,
          3.12,
          6.44,
          3.44,
          3.77,
          4.11,
          4.26,
          3.1,
          2.67,
          3.77,
          3.21,
          4.33,
          3.61,
          3.86,
          4.29,
          3.93,
          5.07,
          3.19,
          4.52,
          5.14,
          5.45,
          5.16,
          7.99,
          5.42,
          7.3,
          3.49,
          4.1,
          5.55,
          5.03,
          2.57,
          4.21,
          3.53,
          4.09,
          4.48,
          4.95,
          3.33,
          3.84,
          4.12,
          3.47,
          3.67,
          4.16,
          3.89,
          4.09,
          3.48,
          3.39,
          3.25,
          4.54,
          3.83,
          3.76,
          3.68,
          3.41,
          2.87,
          3.8,
          4.34,
          3.29,
          3.82,
          4.08,
          2.3,
          2.37,
          2.03,
          2.1,
          3,
          3.26,
          4.89,
          4.15,
          2.64,
          2.23,
          3.39,
          4.36,
          2.96,
          3.21,
          3.88,
          2.38,
          3.28,
          2.25,
          2.75,
          3.43,
          2.92,
          4.47,
          4.08,
          3.86,
          4.06,
          3.61,
          4.92,
          5.39,
          3.62,
          4.08,
          4,
          4.13,
          4.72,
          4.52,
          4.41,
          4.43,
          4.7,
          3.23,
          4.65,
          8.28,
          1.2,
          3.63,
          4.32,
          4.3,
          5.2,
          4.63,
          3.88,
          4.49,
          3.23,
          4.93,
          3.74,
          3.64,
          5.29,
          3.48,
          3.63,
          4.28,
          6.15,
          3.98,
          4.51,
          3.62,
          4.27,
          3.3,
          5.36,
          3.86,
          2.73,
          4.01,
          2.63,
          3.75,
          4.87,
          4.22,
          1.88,
          3.43,
          4.99,
          4.75,
          4.01,
          5.41,
          11.12,
          4.68,
          8.66,
          4.41,
          2.92,
          4.55,
          2.22,
          9.62,
          3.37,
          5.09,
          9.88,
          11.89,
          10.47,
          5.31,
          3.88,
          4.94,
          10.64,
          14.71,
          7.92,
          17.83,
          1.58,
          14.17,
          15.58,
          10.31,
          4.5,
          4.47,
          4.38,
          3.88,
          3.96,
          3.92,
          3.44,
          4.14,
          3.99,
          5.07,
          4.01,
          4.28,
          4.97,
          4.01,
          4.4,
          4.65,
          3.89,
          4.17,
          4.01,
          3.98,
          4.16,
          4.09,
          4.98,
          5.25,
          4.54,
          5.11,
          4.41,
          0.02,
          4.24,
          4.13,
          5.29,
          4.06,
          4.66,
          4.09,
          4.87,
          3.99,
          4.25,
          5.31,
          3.16,
          7.89,
          3.77,
          3.21,
          3.22,
          4.02,
          3.21,
          4.45,
          2.95,
          3.81,
          3.83,
          6.11,
          4.16,
          4.99,
          6.67,
          4.77,
          4.35,
          5.89,
          4.51,
          4.99,
          3.37,
          3.31,
          3.17,
          4.29,
          4.39,
          2.69,
          4.26,
          4.91,
          4.36,
          3.38,
          4.04,
          4.23,
          4.18,
          3.86,
          3.97,
          3.48,
          4.96,
          6.04,
          3.75,
          5.88,
          5.21,
          4.46,
          4.14,
          5.35,
          5.34,
          4.71,
          4.23,
          4.87,
          5.8,
          3.15,
          3.87,
          3.98,
          4.59,
          3.97,
          4,
          4.86,
          5.65,
          4.5,
          4.4,
          5.33,
          2.41,
          4.19,
          4.69,
          2.74,
          4.27,
          2.35,
          5.62,
          2.72,
          3.36,
          8.81,
          5.17,
          3.65,
          4.09,
          1.34,
          6.08,
          3.83,
          5.55,
          5.41,
          5.23,
          1.62,
          3.24,
          8.43,
          1.06,
          4.26,
          3.8,
          2.2,
          4.16,
          2.14,
          3.52,
          3.34,
          3.43,
          2.95,
          5.35,
          14.68,
          8.56,
          7.46,
          8.77,
          9.15,
          9.72,
          8.83,
          4.78,
          4.47,
          3.71,
          3.65,
          6.49,
          6.14,
          6.21,
          7.67,
          6.74,
          5.14,
          5.99,
          6.2,
          8.43,
          6.03,
          4.59,
          5.24,
          3.89,
          3.45,
          5.62,
          1.98,
          3,
          3.21,
          3.79,
          4.01,
          3.26,
          2.61,
          2.66,
          3.33,
          3.16,
          4.54,
          5.41,
          4.36,
          4.47,
          4.16,
          3.63,
          3.7,
          3.85,
          3.12,
          4.21,
          3.6,
          3.65,
          3.93,
          5,
          4.82,
          3.95,
          5.01,
          3.5,
          4.38,
          5.13,
          3.86,
          4.23,
          5.21,
          2.76,
          3.83,
          4.31,
          4.27,
          4.45,
          4.29,
          3.94,
          4.03,
          4.57,
          5.45,
          3.59,
          3.97,
          4.26,
          6.14,
          3.53,
          4.7,
          2.49,
          3.58,
          2.58,
          2.57,
          3.33,
          7.14,
          3.57,
          2.37,
          2.88,
          2.29,
          11.7,
          3.22,
          3.02,
          4.86,
          5.03,
          4.02,
          4.12,
          4.35,
          3.76,
          3.02,
          4.24,
          5.01,
          5.26,
          4.89,
          4.85,
          3,
          2.74,
          2.2,
          3.78,
          2.74,
          2.93,
          2.79,
          3.97,
          3.77,
          3.69,
          3.29,
          3.62,
          0.83,
          3.43,
          6.37,
          4.21,
          6.1,
          4.29,
          5.43,
          5.04,
          6.27,
          3.91,
          3.59,
          5.62,
          4.79,
          3.6,
          3.27,
          2.41,
          2.87,
          3.7,
          5.46,
          4.4,
          4.27,
          4.76,
          4.47,
          4.57,
          4.16,
          6.25,
          4.15,
          4.63,
          3.42,
          3.53,
          5.26,
          5.73,
          3.71,
          6.61,
          5.11,
          4.07,
          4.03,
          5.72,
          2.83,
          4.37,
          4.63,
          3.58,
          3.42,
          3.59,
          5.29,
          2.96,
          4.97,
          4.44,
          5.29,
          4.87,
          4.17,
          4.83,
          5.73,
          2.09,
          2.69,
          3.3,
          3.8,
          2.62,
          2.49,
          2.21,
          2.74,
          4.38,
          3.29,
          3.03,
          3.41,
          5.16,
          8.56,
          4.06,
          4.83,
          4.38,
          2.69,
          4.99,
          5.64,
          2.11,
          3.24,
          3.3,
          4.38,
          1.75,
          2.19,
          3.96,
          2.87,
          2.64,
          1.92,
          3.97,
          1.5,
          2.86,
          3.34,
          3.62,
          2.55,
          4.23,
          4.04,
          2.54,
          4.05,
          2.66,
          3.69,
          2.33,
          3.44,
          2.32,
          2.9,
          3.5,
          2.7,
          3.07,
          4.22,
          5.38,
          3.84,
          3.71,
          3.64,
          4.95,
          3.32,
          4.41,
          4.1,
          3.59,
          2.64,
          2.53,
          3.19,
          0.62,
          3.08,
          1.75,
          3.17,
          0.57,
          3.26,
          0.94,
          3.54,
          4.77,
          4.89,
          2.84,
          3.26,
          4.11,
          3.55,
          3.7,
          3.48,
          3.16,
          3.05,
          3.4,
          3.74,
          4.37,
          3.46,
          4.6,
          3.48,
          4.19,
          2.61,
          43.7,
          88.12,
          43.7,
          43.63,
          43.78,
          43.85,
          42.73,
          45.23,
          43.7,
          43.73,
          43.65,
          43.74,
          43.74,
          43.77,
          43.67,
          43.8,
          43.71,
          43.7,
          43.71,
          47.83,
          43.53,
          42.85,
          43.46,
          43.42,
          42.23,
          42.88,
          43.43,
          43.57,
          43.36,
          43.38,
          43.25,
          43.34,
          43.17,
          43.38,
          43.3,
          43.35,
          43.35,
          43.38,
          43.95,
          42.48,
          43.54,
          42.75,
          40.61,
          43.96,
          42.73,
          43.48,
          43.79,
          43.96,
          43.49,
          43.12,
          42.73,
          43.96,
          42.87,
          43.12,
          43.17,
          43.8,
          43.96,
          43.96,
          43.86,
          43.51,
          42.75,
          43.59,
          43.94,
          43.88,
          43.55,
          43.5,
          43.17,
          43.94,
          43.51,
          42.59,
          43.52,
          43.92,
          43.83,
          43.34,
          43.61,
          43.66,
          43.83,
          44.66,
          44.98,
          43.64,
          43.96,
          43.23,
          41.93,
          46.34,
          43.92,
          43.66,
          43.5,
          43.41,
          43.5,
          43.97,
          42.69,
          47.09,
          43.5,
          43.6,
          43.03,
          43.99,
          43.64,
          43.52,
          43.63,
          46.37,
          43.64,
          46.06,
          43.68,
          41.3,
          43.43,
          44.28,
          43.66,
          4.61,
          3.69,
          4.6,
          4.65,
          5.28,
          5.82,
          4.48,
          4.06,
          3.87,
          5.51,
          4.5,
          4.39,
          4.14,
          4.54,
          3.79,
          4.94,
          4.45,
          3.65,
          3.78,
          4.81,
          4.3,
          5.51,
          5.51,
          3.91,
          3.28,
          3.09,
          4.71,
          3.55,
          4.8,
          3.38,
          4.9,
          4.82,
          4.63,
          4.04,
          4.66,
          3,
          4.58,
          2.57,
          3.24,
          3.99,
          5.15,
          4.84,
          5.8,
          3.65,
          4.5,
          5.06,
          3.86,
          4.69,
          4.37,
          5.33,
          5.13,
          5.82,
          5.38,
          4.62,
          4.76,
          4.45,
          4.88,
          4.68,
          5.25,
          5.04,
          4.88,
          3.12,
          3.1,
          2.99,
          6.37,
          4.41,
          5.89,
          0.64,
          5.83,
          4.46,
          3.82,
          6.41,
          4.26,
          5.06,
          3.26,
          0.72,
          5.62,
          6.5,
          3.84,
          4.32,
          4.98,
          4.68,
          4.7,
          5.86,
          4.6,
          3.64,
          4.92,
          3.05,
          3,
          4.3,
          3.84,
          9.87,
          4.64,
          3.19,
          5.6,
          4.79,
          4.24,
          3.69,
          4.06,
          3.76,
          5.56,
          2.63,
          6.54,
          4.03,
          4.34,
          6.97,
          4.97,
          5.34,
          4.29,
          3.76,
          5.41,
          4.73,
          3.27,
          3.78,
          5.58,
          3.4,
          4.04,
          3.78,
          3.56,
          3.46,
          4.34,
          5.69,
          4.5,
          4.09,
          5.33,
          3.93,
          3.11,
          3.5,
          1.38,
          3.45,
          1.67,
          2.91,
          3.77,
          0.7,
          3.81,
          2.75,
          3.35,
          1.09,
          1.7,
          3.81,
          3.6,
          3.1,
          3.57,
          3.48,
          4.03,
          3.53,
          3.8,
          4.86,
          5.65,
          5.36,
          5.36,
          4.14,
          5.15,
          5.26,
          6.1,
          3.6,
          1.71,
          2.64,
          3.83,
          3.78,
          3.51,
          3.03,
          3.71,
          3.39,
          3.34,
          3.01,
          1.76,
          6.5,
          5.51,
          5.41,
          5.46,
          7.71,
          5.53,
          5.71,
          8.58,
          1.45,
          5.7,
          6.07,
          4.46,
          3.93,
          4.43,
          4.3,
          3.7,
          4.51,
          3.72,
          4.27,
          4.13,
          5.59,
          4.14,
          3.96,
          5.81,
          1.99,
          7.02,
          3.71,
          4.59,
          0.93,
          3.7,
          4.32,
          3.94,
          3.03,
          3.19,
          2.53,
          3.68,
          2.78,
          5.61,
          3.23,
          6.64,
          3.9,
          4.73,
          4.32,
          6.53,
          4.19,
          3.37,
          6.12,
          5.28,
          4.18,
          4.38,
          5.62,
          4.18,
          4.56,
          4.01,
          3.34,
          3.77,
          3,
          3.09,
          3.66,
          4.51,
          2.35,
          1.79,
          2.64,
          4.49,
          3.62,
          4.06,
          4.99,
          4.09,
          3.45,
          2.81,
          2.55,
          5.55,
          43.62,
          43.1,
          43.13,
          43.35,
          43.6,
          43.62,
          43.35,
          23.01,
          21.77,
          22.03,
          21.95,
          22.06,
          22.09,
          20.89,
          21.58,
          21.51,
          21.47,
          21.92,
          22,
          21.66,
          21.54,
          22.15,
          21.37,
          21.13,
          21.25,
          21.08,
          21.07,
          21.31,
          21.17,
          21.3,
          21.14,
          20.63,
          21.31,
          21.24,
          28.55,
          22.11,
          21.62,
          21.28,
          21.38,
          21.34,
          21.33,
          30.38,
          30.03,
          21.22,
          41.99,
          21.19,
          21.48,
          28.34,
          21.2,
          21.19,
          21.7,
          21.21,
          29.46,
          21.19,
          21.14,
          28.88,
          27.94,
          42.36,
          44.79,
          84.81,
          5.18,
          49.21,
          49.27,
          48.8,
          48.71,
          48.58,
          48.67,
          48.75,
          48.46,
          48.74,
          48.75,
          47.73,
          48.74,
          48.72,
          48.78,
          48.71,
          48.72,
          49.28,
          48.93,
          49.34,
          48.4,
          48.7,
          48.73,
          48.79,
          48.73,
          41.41,
          43.62,
          43.51,
          3.22,
          4.64,
          4.8,
          4.58,
          4.69,
          3.58,
          4.01,
          3.88,
          2.66,
          3.21,
          3.51,
          3.98,
          4.42,
          3.55,
          3.65,
          3.8,
          2.6,
          3.31,
          2.48,
          3.13,
          3.59,
          4.34,
          3.95,
          5.68,
          4.93,
          6.07,
          6.55,
          8.59,
          4.71,
          5.59,
          5.91,
          4.31,
          5.56,
          9.21,
          3.15,
          4.26,
          4.01,
          5.55,
          5.65,
          6.51,
          4.2,
          5.43,
          3.85,
          3.42,
          4.79,
          5.26,
          4.55,
          3.63,
          1.15,
          3.04,
          3.61,
          0.13,
          3.66,
          3.64,
          2.59,
          1.91,
          3.97,
          0.35,
          3.17,
          2.84,
          2.72,
          2.84,
          4,
          3.34,
          3.94,
          3.95,
          5.01,
          2.4,
          5.98,
          4.5,
          5.07,
          3.54,
          4.76,
          3.96,
          3.77,
          3.88,
          3.69,
          5.48,
          4.24,
          3.96,
          3.7,
          4.58,
          5.31,
          3.9,
          41.55,
          43.53,
          1.88,
          8.29,
          43.53,
          43.48,
          43.48,
          43.53,
          43.42,
          43.15,
          43.53,
          43.19,
          4.11,
          5.12,
          4.76,
          5.45,
          3.53,
          5.01,
          3.33,
          2.88,
          4.45,
          6.1,
          5.94,
          43.55,
          43.53,
          43.49,
          41.63,
          43.05,
          6.41,
          11.21,
          4.1,
          3.75,
          5.07,
          5.71,
          4.18,
          4.07,
          6.91,
          3.86,
          3.75,
          3.95,
          3.57,
          4.28,
          3.4,
          3.86,
          3.64,
          4.69,
          3.67,
          3.43,
          3.62,
          4.46,
          4.56,
          4,
          4.21,
          3.63,
          4.34,
          3.85,
          3.65,
          3.81,
          3.56,
          4.58,
          3.89,
          4.44,
          3.55,
          4.97,
          5.03,
          4.9,
          4.09,
          8.36,
          4.53,
          3.32,
          3.23,
          2.01,
          2.39,
          9.7,
          3.29,
          5.82,
          6.57,
          5.11,
          6.54,
          5.64,
          4.58,
          3.15,
          4.32,
          5.07,
          4.17,
          4.63,
          8.7,
          2.95,
          9.94,
          2.61,
          3.3,
          30.25,
          28.42,
          2.57,
          4.23,
          9.09,
          5.12,
          9.34,
          4.06,
          6.77,
          6.52,
          4.47,
          3.73,
          8.05,
          4.25,
          6.87,
          4.01,
          4.58,
          8.78,
          9.37,
          2.22,
          1.15,
          2,
          4.22,
          2.91,
          1.69,
          4.22,
          6.05,
          3.55,
          4.28,
          2.53,
          3.2,
          4.01,
          2.57,
          3.09,
          3.69,
          2.36,
          2.78,
          3.37,
          6.97,
          3.9,
          6.83,
          3.34,
          2.16,
          2.8,
          5.27,
          3.32,
          3.41,
          3.49,
          5.01,
          11.06,
          3.59,
          5.66,
          4.99,
          6.46,
          3.77,
          1.84,
          4.82,
          9.46,
          6.07,
          6.43,
          2.37,
          6.28,
          4.76,
          3.91,
          2.23,
          5.56,
          4.78,
          4.43,
          0.86,
          4.36,
          8.23,
          4.78,
          2.32,
          1.11,
          3.69,
          3.43
         ],
         "xaxis": "x",
         "y": [
          10.65,
          5.25,
          3.81,
          4.13,
          6,
          6.4,
          7.28,
          6.54,
          6.29,
          8.21,
          6.26,
          8.2,
          6.4,
          8.41,
          10.34,
          6.71,
          11.46,
          8.37,
          10.13,
          11.51,
          7.95,
          10.06,
          9.27,
          10.06,
          8.27,
          9.67,
          8.28,
          10.37,
          9.59,
          11.08,
          7.51,
          6.75,
          7.61,
          9.92,
          7.88,
          9.53,
          11.8,
          8.94,
          7.82,
          5.86,
          6.89,
          5.52,
          9.3,
          7.46,
          8.35,
          8.74,
          7.25,
          7.25,
          9.25,
          15.27,
          4.7,
          8.88,
          10.79,
          7.48,
          6.96,
          11.99,
          8.58,
          8.79,
          6.12,
          10.67,
          8.1,
          7.57,
          5.71,
          8.92,
          4.33,
          5.28,
          7.85,
          4,
          7.77,
          4.19,
          6.79,
          5.32,
          6.38,
          3.92,
          11.53,
          8.32,
          6.95,
          13.71,
          11.8,
          9.94,
          8.97,
          9.64,
          11.48,
          10.88,
          5.09,
          6.36,
          6.4,
          5.71,
          6.73,
          6.03,
          7.86,
          7.67,
          4.72,
          4.73,
          7.54,
          6.95,
          6.86,
          7.27,
          7.89,
          9.07,
          8.68,
          7.97,
          7.26,
          8.59,
          7.35,
          7.19,
          8.53,
          8.59,
          9.28,
          9.56,
          2.26,
          1.63,
          1.78,
          2.46,
          2.1,
          2.14,
          2.17,
          2.5,
          2.2,
          2.2,
          1.63,
          1.24,
          8.14,
          14.38,
          7.84,
          9.26,
          18.23,
          10.14,
          7.85,
          8.6,
          10.15,
          7.76,
          9.41,
          7.37,
          10.03,
          8.59,
          8.92,
          7.75,
          8.18,
          8.83,
          11.27,
          17.21,
          11.41,
          6.12,
          13.2,
          8.69,
          8.93,
          8.56,
          11.86,
          8.25,
          6.84,
          11.47,
          6.35,
          20.15,
          6.57,
          15.32,
          8.37,
          5.96,
          8.75,
          3.18,
          8.82,
          10.31,
          7.3,
          5.41,
          4.66,
          10.83,
          1.48,
          6.4,
          0.15,
          10,
          0.2,
          6.98,
          0.37,
          5.44,
          2.92,
          9.42,
          12.25,
          10.91,
          0.21,
          7.47,
          5.21,
          11.56,
          8.91,
          8.79,
          7.65,
          9,
          8.44,
          15.29,
          8.23,
          12.58,
          11.27,
          10.62,
          15.78,
          7.44,
          4.39,
          5.45,
          13.53,
          7.48,
          7.33,
          6.54,
          4.25,
          5.23,
          5.74,
          4.25,
          18.27,
          5.57,
          3.08,
          4.64,
          15.15,
          7.04,
          2.62,
          4.13,
          4.83,
          4.51,
          5.65,
          5.96,
          6.88,
          9.4,
          9.54,
          4.49,
          8.11,
          9.88,
          8.97,
          13.79,
          6.16,
          10.47,
          5.13,
          5.31,
          11.79,
          5.18,
          9.06,
          5.85,
          5.38,
          5.32,
          6.08,
          7.52,
          4.15,
          5.75,
          5.58,
          6.93,
          9.86,
          5.21,
          4.48,
          4.84,
          12.09,
          1.05,
          6.41,
          4.83,
          4.81,
          7.87,
          7.61,
          7.19,
          9.22,
          3.09,
          7.36,
          7.59,
          6.17,
          4.07,
          4.96,
          4.21,
          2.83,
          2.3,
          6.66,
          5.61,
          8.5,
          8.6,
          6.66,
          7.04,
          9.78,
          7.77,
          9.21,
          6.91,
          5.89,
          8.67,
          7.99,
          2.77,
          6.85,
          7.87,
          3.37,
          6.23,
          13.07,
          7.94,
          7.34,
          8.11,
          6.16,
          7.06,
          9.61,
          7.5,
          7.39,
          7.89,
          6.6,
          7.05,
          8.11,
          5.48,
          8.16,
          6.2,
          7.14,
          7.31,
          9.59,
          6.63,
          9.1,
          8.91,
          7.81,
          7.16,
          6.1,
          7.7,
          5.67,
          9.19,
          7.65,
          8.48,
          8.72,
          6.7,
          9.83,
          7.77,
          8.05,
          7.75,
          8.03,
          8.33,
          7.33,
          8.78,
          8.46,
          6.78,
          6.57,
          6.33,
          6.21,
          6.03,
          7.39,
          6.71,
          6.65,
          6.16,
          6.92,
          6.7,
          6.26,
          6.61,
          6.46,
          5.28,
          9.77,
          8.18,
          6,
          12.43,
          5.72,
          8.1,
          5.02,
          9.76,
          11.69,
          3.97,
          5.76,
          11.8,
          19.21,
          22.02,
          7.29,
          11.19,
          5.31,
          5.73,
          8.5,
          4.51,
          21.06,
          2.79,
          10.39,
          8.97,
          8.88,
          9.17,
          9.25,
          9.27,
          9.15,
          9.19,
          9.01,
          9.42,
          9.25,
          8.13,
          9.27,
          9.17,
          9.56,
          8.11,
          7.87,
          7.18,
          8.22,
          8.64,
          4.64,
          9,
          5.77,
          8.33,
          6.24,
          5.9,
          5.62,
          7.57,
          7.88,
          5.7,
          4.52,
          6.91,
          8.72,
          6.81,
          9.87,
          5.31,
          4.88,
          7.64,
          8.85,
          11.63,
          8.57,
          5.33,
          8.88,
          7.46,
          8.65,
          6.77,
          5.24,
          6.48,
          12.48,
          4.84,
          6.66,
          11.84,
          11.39,
          4.64,
          14.73,
          20.93,
          12.46,
          9.48,
          17.07,
          8.94,
          8.29,
          7.38,
          10.83,
          7.51,
          8.16,
          12.08,
          7.74,
          7.77,
          9.13,
          8.51,
          9.22,
          7.81,
          7.55,
          6.92,
          7.74,
          8.13,
          7.57,
          6.81,
          9.79,
          6.78,
          7.57,
          6.13,
          5.81,
          6.72,
          7.18,
          6.65,
          7.85,
          8.6,
          6.86,
          7.92,
          7.05,
          5.11,
          6.02,
          5.47,
          8.21,
          6.49,
          9.96,
          8.68,
          10.03,
          9.31,
          8.44,
          8.65,
          8.99,
          9.39,
          9.84,
          9.95,
          9.41,
          9.04,
          8.65,
          5.23,
          5,
          7.36,
          7.06,
          5.68,
          5.57,
          4.22,
          5.38,
          4.2,
          6.01,
          2.81,
          4.7,
          4.23,
          5.36,
          4.84,
          6.18,
          5.34,
          5.28,
          7,
          6.02,
          6.75,
          2.34,
          13.69,
          8,
          10.75,
          10.88,
          8.99,
          9.12,
          12.19,
          9.3,
          11.26,
          8.86,
          7.44,
          6.24,
          6.75,
          6.17,
          8.25,
          5.24,
          7.9,
          7.97,
          4.89,
          7.39,
          7.23,
          6.54,
          5.72,
          5.67,
          6.48,
          7.12,
          7.68,
          6.15,
          8.22,
          13.24,
          11.89,
          4.64,
          6.08,
          5.87,
          9.49,
          5.82,
          11.2,
          12.61,
          5.24,
          7.49,
          9.04,
          4.65,
          5.53,
          16.09,
          3.88,
          9,
          6.11,
          6,
          5.38,
          5.98,
          7.01,
          6.9,
          11.92,
          14.09,
          8.63,
          10.54,
          7.26,
          23.46,
          19.17,
          25.15,
          7.96,
          10.5,
          20.67,
          7.6,
          10.64,
          15.91,
          10.82,
          10.48,
          10.95,
          8.41,
          10.91,
          9.82,
          9.54,
          10.59,
          9.78,
          10.22,
          11.32,
          8.69,
          10.64,
          8.34,
          11.22,
          11.09,
          8.96,
          9.05,
          9.41,
          11.2,
          8.26,
          10.46,
          8.78,
          9.32,
          9.15,
          11.92,
          23.56,
          7.72,
          7.32,
          8.96,
          6.33,
          7.65,
          7.26,
          5.81,
          7.57,
          6.22,
          8.74,
          9.16,
          10.08,
          6.77,
          7.56,
          6.06,
          5.93,
          10.73,
          7.2,
          25.19,
          11.05,
          14.83,
          8.6,
          5.18,
          6.16,
          17.51,
          7.24,
          17.06,
          28.05,
          10.57,
          14.76,
          15.38,
          26.67,
          5.98,
          10.04,
          7.59,
          6.95,
          11.94,
          37.45,
          28.46,
          26.49,
          23.73,
          5.71,
          10.68,
          5.9,
          5.75,
          5.63,
          5.58,
          6.3,
          6.23,
          5.97,
          5.55,
          5.81,
          6,
          5.63,
          5.18,
          9.01,
          8.82,
          6.92,
          8.78,
          6.23,
          6.24,
          6.39,
          6.06,
          12.86,
          12.52,
          5.29,
          5.41,
          6.46,
          6.79,
          4.35,
          7.19,
          7.56,
          5.12,
          6.04,
          5.66,
          6.56,
          6.6,
          5.13,
          7.54,
          5.15,
          8.6,
          5.27,
          8.09,
          7.99,
          7.62,
          6.53,
          7.39,
          7.66,
          3.66,
          4.1,
          5.5,
          4.43,
          8.62,
          8.53,
          5.94,
          4.4,
          5.97,
          4.87,
          5.11,
          5.27,
          4.4,
          4.07,
          4.67,
          5.12,
          5.87,
          4.8,
          6.6,
          20.93,
          5.02,
          5.1,
          5.45,
          7.58,
          8.87,
          7.62,
          9.88,
          5.1,
          6.88,
          9.23,
          5.92,
          5.64,
          5.54,
          4.16,
          7.91,
          6.5,
          4.42,
          12.12,
          7.09,
          7.42,
          5.14,
          10.74,
          6.61,
          4.27,
          6.77,
          7.54,
          7.99,
          7.22,
          6.4,
          6.4,
          6.62,
          7.94,
          8.6,
          6.09,
          6.07,
          6.72,
          4.79,
          9.27,
          8.76,
          7.79,
          7.95,
          9.9,
          7.22,
          7.08,
          5.57,
          6.2,
          6.18,
          8.72,
          6.01,
          8.15,
          8.08,
          6.7,
          8.52,
          5.91,
          7.29,
          5.25,
          6.84,
          7.24,
          8.3,
          7.63,
          5.89,
          11.44,
          9.96,
          8.19,
          7.96,
          19.29,
          14.84,
          6.53,
          8.58,
          13.29,
          6.4,
          13.01,
          7.7,
          8.92,
          10.15,
          15.52,
          12.06,
          13.14,
          9.57,
          18.8,
          7.56,
          11.5,
          9.96,
          9.29,
          9.13,
          6.62,
          14.48,
          10.61,
          11.46,
          9.06,
          9.44,
          7.47,
          10.72,
          13.73,
          8.56,
          8.12,
          11.16,
          8.97,
          14.1,
          8.78,
          10.04,
          9.84,
          9.69,
          8.68,
          10.17,
          11.06,
          7.8,
          8.87,
          10.24,
          10.67,
          8.84,
          9.75,
          9.84,
          6.99,
          10.84,
          7.99,
          12.23,
          7.67,
          8.27,
          8.41,
          9.56,
          6.25,
          6.4,
          8.37,
          7.58,
          6.02,
          11.09,
          7.43,
          12.16,
          7.7,
          10.83,
          10.37,
          8.02,
          8.66,
          8.73,
          8.65,
          9.08,
          7.73,
          10.78,
          9.27,
          8.13,
          7.61,
          6.66,
          7.72,
          7.98,
          6.8,
          7.92,
          10.03,
          9.92,
          7.77,
          11.08,
          8.44,
          10.16,
          13.52,
          10.11,
          11.5,
          11.72,
          8.61,
          20.68,
          10.87,
          11.44,
          8.45,
          7.94,
          9.57,
          10.76,
          6.69,
          8.38,
          6.61,
          8.67,
          8.98,
          9.83,
          8.63,
          8.96,
          10.19,
          10.37,
          10.66,
          6.7,
          8.48,
          9.39,
          7.44,
          6.75,
          7.99,
          8.74,
          10.96,
          8.49,
          8.96,
          6.97,
          5.89,
          5.18,
          8.28,
          5.28,
          7.6,
          7.76,
          6.57,
          5.53,
          8.64,
          7.64,
          5,
          7.24,
          8.96,
          13.46,
          5.08,
          5.46,
          7.84,
          7.89,
          5.24,
          9.42,
          9.49,
          6.81,
          8.33,
          6.16,
          6.58,
          7.41,
          8.35,
          6.99,
          9.29,
          5.73,
          7.89,
          6.17,
          7.11,
          6.24,
          8.61,
          10.39,
          7.31,
          9.05,
          11.96,
          7.09,
          7.07,
          6.41,
          6.77,
          15.05,
          8.02,
          6.35,
          8.45,
          7.84,
          4.03,
          10.25,
          7.16,
          6.76,
          6.57,
          4.43,
          8.04,
          3.72,
          7.15,
          7.01,
          8.34,
          8.23,
          6.95,
          9.71,
          8.59,
          7.53,
          8.44,
          6.96,
          9.28,
          8.74,
          12.33,
          7.86,
          5.79,
          4.31,
          8.4,
          9.18,
          6.59,
          6.43,
          7.05,
          7.66,
          5.94,
          5.83,
          9.33,
          12.55,
          4.96,
          8.33,
          10.52,
          5.65,
          6.28,
          9.18,
          9.85,
          4.6,
          11.29,
          15.48,
          7.28,
          7.01,
          10.66,
          14.56,
          7.85,
          1.04,
          7.55,
          8.49,
          7.02,
          7.11,
          5.33,
          4.56,
          11.29,
          3.74,
          7.35,
          6.73,
          8.59,
          5.76,
          5.58,
          7.12,
          6.12,
          7.98,
          7.85,
          3.64,
          6.2,
          8.69,
          8.98,
          7.38,
          10.87,
          9.84,
          9.47,
          6.56,
          8.35,
          6.06,
          9.94,
          8.65,
          7.15,
          6.29,
          9.27,
          8.26,
          8.44,
          9.28,
          8.22,
          8.51,
          9.63,
          9.56,
          8.6,
          8.39,
          9.23,
          14.66,
          2.58,
          7.18,
          7.71,
          6.65,
          4.72,
          4.2,
          8.08,
          4.66,
          4.93,
          8.91,
          7.89,
          9.44,
          10.69,
          8.51,
          4.82,
          6.4,
          6.04,
          4.97,
          6.1,
          4.69,
          5.43,
          5.3,
          2.79,
          5,
          5.84,
          4.63,
          6.56,
          5.37,
          8.16,
          5.94,
          5.81,
          6.11,
          5.71,
          5.29,
          9.1,
          6.34,
          6.08,
          5.57,
          7.32,
          7.5,
          7.55,
          10.08,
          9.57,
          7.71,
          7.01,
          10.11,
          10.33,
          7.84,
          6.71,
          16.72,
          6.09,
          2.33,
          9.14,
          7.12,
          8,
          8.26,
          7.01,
          6.33,
          7.04,
          6.62,
          6.32,
          6.05,
          8.68,
          4.66,
          6.58,
          8.12,
          0.99,
          4.99,
          7.65,
          9.36,
          9.15,
          7.62,
          7.97,
          11.23,
          9,
          8.4,
          7.44,
          8.2,
          9.22,
          10.02,
          7.13,
          7.47,
          11.44,
          9.36,
          8.5,
          10.27,
          8.3,
          6.9,
          8.44,
          10.04,
          9.47,
          9.15,
          9.15,
          7.12,
          9.1,
          9.55,
          9.24,
          8.4,
          8.63,
          8.92,
          6.88,
          8.12,
          6.67,
          8.06,
          7.7,
          7.65,
          8.12,
          7.69,
          7.89,
          7.83,
          7.44,
          2.89,
          8.75,
          5.44,
          17.05,
          7.25,
          8.09,
          5.08,
          5.45,
          6.44,
          3.72,
          6.65,
          7.61,
          8.89,
          17.3,
          7.86,
          4.33,
          3.24,
          4.25,
          4.18,
          3.64,
          6.38,
          3.5,
          3.68,
          5.61,
          3.15,
          3.29,
          5.9,
          3.03,
          4.82,
          3.05,
          4.61,
          2.43,
          2.63,
          5.28,
          4.9,
          3.36,
          8.51,
          5.19,
          2.71,
          5.14,
          4.36,
          4.19,
          9.73,
          14.35,
          8.15,
          6.1,
          10.48,
          10.62,
          6.32,
          13.33,
          8.97,
          16.44,
          7.67,
          17.49,
          10.69,
          8.79,
          2.64,
          11.5,
          8.03,
          10.22,
          12.47,
          7.68,
          10.57,
          7.86,
          8.19,
          11.93,
          11.32,
          11.64,
          16.8,
          11.91,
          4.18,
          6.56,
          8.32,
          4.93,
          7.42,
          5.38,
          7.03,
          8.93,
          7.05,
          8.88,
          6.87,
          4.5,
          3.59,
          3.9,
          4.06,
          5.39,
          4.42,
          4.48,
          3.49,
          3.63,
          5.15,
          4.96,
          7.2,
          3.01,
          3.97,
          4.31,
          5.31,
          3.81,
          4.97,
          6.23,
          4.85,
          6.85,
          4.12,
          6.59,
          10.51,
          15.64,
          14.46,
          16.57,
          10.78,
          21.41,
          9.18,
          20.83,
          14.71,
          19.33,
          8.88,
          8.72,
          16.85,
          13.37,
          19.71,
          11.9,
          11.62,
          19.38,
          14.92,
          14.14,
          16.29,
          7.8,
          8.33,
          15.89,
          12.79,
          10.71,
          13.39,
          11.22,
          8.3,
          8.95,
          7.2,
          12.96,
          16.67,
          5.41,
          4.49,
          7.52,
          4.52,
          9.8,
          5.94,
          7.61,
          5.79,
          4.95,
          2.43,
          3.99,
          5.92,
          4.65,
          4.29,
          5.33,
          6.89,
          8.52,
          4.58,
          6.61,
          1.1,
          6.33,
          8.39,
          6.16,
          8.51,
          5.27,
          18.07,
          10.42,
          6.3,
          10.33,
          6,
          5.3,
          4.68,
          4.21,
          8.7,
          6.37,
          7.19,
          10.1,
          5.34,
          6.73,
          3.99,
          6.51,
          4.88,
          7.72,
          5.67,
          10.95,
          9.45,
          9.88,
          8.63,
          6.01,
          10.09,
          5.4,
          7.75,
          11.32,
          10.25,
          5.33,
          7.29,
          10.85,
          3.9,
          3.5,
          4.03,
          3.88,
          3.83,
          3.95,
          4.2,
          3.78,
          4.34,
          5.08,
          5.64,
          6.24,
          3.52,
          4.97,
          3.84,
          4.49,
          3.38,
          3.15,
          6.8,
          6.17,
          8.24,
          5.79,
          5.56,
          8.39,
          7.34,
          9.34,
          18.69,
          4.42,
          10.75,
          15.59,
          14,
          7.09,
          14.76,
          16.62,
          24.76,
          10.79,
          10.44,
          22.06,
          21.33,
          10.71,
          17.58,
          13.42,
          11.46,
          16.94,
          12.11,
          11.15,
          7.8,
          8.45,
          4.83,
          6.27,
          13.59,
          6.99,
          6.11,
          6.43,
          10.21,
          7.04,
          7.83,
          10.11,
          7.89,
          11.8,
          6.78,
          8.96,
          5.29,
          3.67,
          3.05,
          5.73,
          2.72,
          3.06,
          11.19,
          4.83,
          25.87,
          11.59,
          9.67,
          16.94,
          11.84,
          14.53,
          11.92,
          13.65,
          15.23,
          12.88,
          18.71,
          6.71,
          22.61,
          11.08,
          20.59,
          14.39,
          15.44,
          18.45,
          12.6,
          5.14,
          5.26,
          6.7,
          4.49,
          3.98,
          5.21,
          5.28,
          5.38,
          5.22,
          10.01,
          6.85,
          6.21,
          6.92,
          6.85,
          7.97,
          7.6,
          9,
          10.67,
          6,
          8.19,
          7.3,
          11.82,
          8.87,
          9.39,
          12.27,
          7.74,
          7.87,
          16.3,
          19.85,
          5.02,
          10.53,
          9.12,
          10.95,
          8.18,
          7.16,
          10.92,
          10.2,
          8.53,
          10.02,
          7,
          8.92,
          16.77,
          8.24,
          9.13,
          11.25,
          12.09,
          9.86,
          10.53,
          13.37,
          10.34,
          12.18,
          12.31,
          3.51,
          6.67,
          6.11,
          7.17,
          7.67,
          8.12,
          8.46,
          5.46,
          7.56,
          8.46,
          4.43,
          8.76,
          8.45,
          6.18,
          6.95,
          6.95,
          4.76,
          6.04,
          7.31,
          5.95,
          5.13,
          12.58,
          5.25,
          7.91,
          6.55,
          6.68,
          5.34,
          6.1,
          6.24,
          6.57,
          4.21,
          3.85,
          4.99,
          3.28,
          3.15,
          1.85,
          3.38,
          4.59,
          1.77,
          5.34,
          9.74,
          11.45,
          9.05,
          10.79,
          10.11,
          14.25,
          11.73,
          12.42,
          10.23,
          6.1,
          10.49,
          11.94,
          7.15,
          9.06,
          8.08,
          8.14,
          9.59,
          8.04,
          8.59,
          8.47,
          7.09,
          7.23,
          8.43,
          4.1,
          7.91,
          9.99,
          9.19,
          6.1,
          7.4,
          5.78,
          7.7,
          8.66,
          8.06,
          8.46,
          6.92,
          3.76,
          6.46,
          6.78,
          5.75,
          6.91,
          6.41,
          6.73,
          4.51,
          6.21,
          8.59,
          1.29,
          6.9,
          9.5,
          10.56,
          8.31,
          7.82,
          8.96,
          9.11,
          6.83,
          13.42,
          8.76,
          5.4,
          6.23,
          6.83,
          6.05,
          7.14,
          7.99,
          5.56,
          6.26,
          4.59,
          11.53,
          8.86,
          9.82,
          5.32,
          7.01,
          8.15,
          6.16,
          9.71,
          12.85,
          9.79,
          34.38,
          16.26,
          7.29,
          10.73,
          25.5,
          12.24,
          4.94,
          5.74,
          8.05,
          8.31,
          6.75,
          9.61,
          8.16,
          10.21,
          10.21,
          14.33,
          9.11,
          6.16,
          6.91,
          8.25,
          13.02,
          8.44,
          12.78,
          8.03,
          11.8,
          6.23,
          19.89,
          11.14,
          10.24,
          9.21,
          6.81,
          10.99,
          14.98,
          8.67,
          9.04,
          6.74,
          13.27,
          5.21,
          12.58,
          12.06,
          12.03,
          8.59,
          4.23,
          4.67,
          8.82,
          15.77,
          10.51,
          8.93,
          11.89,
          8.9,
          8,
          4.98,
          8.77,
          8.26,
          8.1,
          4.56,
          7.34,
          6.55,
          13.81,
          7.69,
          9.3,
          5.91,
          10.68,
          8.27,
          6.9,
          16.24,
          3.96,
          9.89,
          12.17,
          6.83,
          7.8,
          7.3,
          8.54,
          8.85,
          19.64,
          12.05,
          5.66,
          11.67,
          8.01,
          8.91,
          17.62,
          7.53,
          7.13,
          10.93,
          15.52,
          50.06,
          23.27,
          20.37,
          24.17,
          26.88,
          7.29,
          8.74,
          8.19,
          8.25,
          8.81,
          7.85,
          10.29,
          9.4,
          10.08,
          6.33,
          10.12,
          9.17,
          8.43,
          5.51,
          8.17,
          4.6,
          7.43,
          4.41,
          8.61,
          9.5,
          8.21,
          5.55,
          17.25,
          6.13,
          9.66,
          6.36,
          11.5,
          8.83,
          6.37,
          10.01,
          6,
          6.58,
          6.98,
          6.37,
          7.14,
          7.7,
          8.52,
          7.31,
          8.14,
          8.06,
          7.24,
          5.93,
          8.08,
          9.21,
          10.77,
          9.09,
          6.67,
          8.16,
          7.51,
          7.46,
          7.68,
          9.64,
          8.37,
          5.67,
          7.13,
          6.58,
          6.91,
          6.13,
          10.97,
          6.14,
          8.83,
          7.79,
          4.69,
          6.87,
          4.58,
          6.12,
          7.15,
          8.77,
          7.76,
          8.7,
          8.3,
          6.25,
          5.94,
          7.34,
          4.13,
          7.36,
          4.77,
          11.24,
          11.34,
          4.18,
          3.57,
          17.72,
          8.6,
          4.49,
          4.3,
          6.85,
          4.63,
          5.49,
          5.79,
          7.27,
          1.39,
          6.03,
          6.69,
          6.21,
          7.82,
          6.88,
          4.13,
          6.39,
          8.73,
          5,
          5.65,
          9.11,
          4.27,
          4.63,
          5.01,
          4.23,
          4.74,
          4.42,
          5.13,
          6.18,
          6.97,
          5.52,
          6.57,
          5.38,
          8.48,
          6.05,
          6.88,
          9.9,
          7.48,
          7.17,
          7.02,
          7.07,
          6.81,
          6.78,
          12.7,
          6.37,
          8.56,
          8.69,
          6.26,
          11.28,
          10.35,
          10.05,
          7.12,
          12.06,
          12.55,
          7.46,
          7.65,
          12.02,
          7.95,
          9.59,
          12.68,
          7.3,
          12.38,
          12.6,
          9.24,
          5.94,
          6.54,
          14.67,
          6.76,
          10.58,
          8.22,
          4.31,
          5.88,
          5.74,
          7.6,
          6.88,
          9.11,
          5.99,
          7.97,
          13.52,
          5.87,
          8.71,
          7.85,
          7.73,
          9.36,
          12.08,
          12.83,
          9.67,
          9.47,
          10.23,
          12.4,
          8.43,
          10.19,
          8.14,
          15.5,
          9.2,
          7.49,
          7.4,
          10.02,
          10.95,
          9.91,
          18.39,
          9.75,
          16.11,
          12.35,
          12.09,
          15.39,
          10.79,
          15.62,
          10.23,
          8.46,
          8.69,
          9.93,
          12.29,
          10.06,
          9.73,
          11.61,
          7.65,
          12.94,
          11.45,
          14.17,
          9.86,
          15.44,
          8.98,
          12.45,
          9.69,
          12.9,
          7.61,
          8.25,
          12.35,
          16.68,
          10.98,
          13.7,
          15.79,
          10.18,
          15.82,
          10.73,
          13.44,
          10.12,
          13.37,
          9.76,
          16.37,
          12.64,
          18.37,
          12.16,
          14.01,
          12.41,
          10.85,
          14.49,
          18.35,
          9.83,
          6.46,
          7.16,
          6.65,
          8.18,
          6.49,
          9.74,
          8.56,
          5.14,
          4.09,
          5.93,
          6.09,
          6.58,
          9.45,
          5.96,
          7.44,
          6.79,
          6.22,
          6.49,
          7.77,
          8.7,
          6.24,
          5.01,
          6.71,
          9.43,
          4.86,
          10.13,
          2.26,
          4.69,
          8.83,
          7.16,
          8.4,
          7.85,
          8.46,
          8.3,
          8.99,
          6.58,
          4.37,
          4.13,
          12.89,
          6.47,
          5.27,
          6.31,
          4.94,
          6.77,
          6.33,
          5.99,
          5.17,
          6.66,
          4.92,
          3.05,
          8,
          5.29,
          5.54,
          5.3,
          5.56,
          7.35,
          7.98,
          7.43,
          6.88,
          6.5,
          7.98,
          6.2,
          7.72,
          7.63,
          7.97,
          8.52,
          1.23,
          8.26,
          8.38,
          8.46,
          8.81,
          8.69,
          10.67,
          8.85,
          7.9,
          7.34,
          7.7,
          8.76,
          8.33,
          6.42,
          8.98,
          6.28,
          7.47,
          6.94,
          1.61,
          4.99,
          6.69,
          8.45,
          8.99,
          3.98,
          7.77,
          3.61,
          5.9,
          6.58,
          8.78,
          7.06,
          5.11,
          4.66,
          6.45,
          3.58,
          6.77,
          9.37,
          7.94,
          6.79,
          5.71,
          8.01,
          5.52,
          4.4,
          6.94,
          4.86,
          6.63,
          6.09,
          7.13,
          2.98,
          6.52,
          7.01,
          5.04,
          8.38,
          7.27,
          8.24,
          6.83,
          8.08,
          8.76,
          9.49,
          10.21,
          10.28,
          6.71,
          6.21,
          7.64,
          5.94,
          7.39,
          7.89,
          7.17,
          7.75,
          5.08,
          4.67,
          6.75,
          6.9,
          7.21,
          7.15,
          6.45,
          7.51,
          9.05,
          7.16,
          5.13,
          5.81,
          5.76,
          6.58,
          7.72,
          7.56,
          6.6,
          5.91,
          4.71,
          5.58,
          6.26,
          6.81,
          8.35,
          5.72,
          8.12,
          7.23,
          8.15,
          6.42,
          8.09,
          7.28,
          7,
          5.78,
          5.06,
          6.13,
          5.53,
          6.94,
          6.27,
          6.41,
          7.26,
          7.67,
          8.08,
          6.67,
          6.93,
          7.26,
          9.78,
          5.97,
          6.58,
          6.58,
          6,
          6.57,
          5.11,
          7.21,
          8.56,
          7.76,
          7.88,
          10.62,
          4.71,
          4.39,
          5.27,
          5.01,
          4.94,
          4.1,
          7.02,
          8.78,
          10.03,
          9.54,
          10.67,
          8.09,
          10.84,
          15.21,
          14.42,
          5.35,
          11.09,
          5.46,
          10.34,
          7.72,
          8.16,
          7.58,
          11.63,
          7.24,
          12.56,
          8.2,
          10.49,
          7.25,
          9.91,
          10.04,
          10.73,
          10.48,
          7.71,
          10.43,
          8.87,
          10.36,
          12.14,
          3.7,
          6.61,
          10.55,
          6.27,
          8.9,
          6.6,
          5.58,
          6.92,
          6.33,
          5.89,
          5.24,
          9.55,
          7.42,
          7.97,
          5.85,
          10.09,
          6.13,
          6.18,
          12.96,
          7.25,
          9.53,
          7.32,
          7.02,
          12.8,
          7.16,
          3.77,
          4.59,
          5.04,
          7.58,
          9.91,
          10.72,
          8.68,
          7.04,
          7.65,
          12.95,
          11.79,
          7.26,
          6.57,
          4.36,
          8.41,
          8.25,
          6.75,
          5.79,
          5.59,
          7.78,
          1.65,
          7.05,
          10.27,
          13.36,
          6.88,
          7.26,
          8.6,
          7.24,
          6.09,
          6.76,
          7.82,
          8.52,
          4.98,
          5.13,
          6.71,
          7.49,
          7.82,
          2,
          8.68,
          7.21,
          9.18,
          10.66,
          6.24,
          10.69,
          9.96,
          5.04,
          6.56,
          9.29,
          8.04,
          16.98,
          6.06,
          5.25,
          7.46,
          6.46,
          6.71,
          11.48,
          5.29,
          8.89,
          7.96,
          6.2,
          5.9,
          9.3,
          7.72,
          7,
          8.71,
          7.3,
          7,
          8.55,
          7.57,
          8.27,
          11.26,
          6.78,
          7.43,
          9.84,
          11.53,
          7.28,
          6.87,
          13.31,
          8.72,
          12.33,
          14.3,
          6.4,
          7.15,
          3.88,
          9.94,
          5.46,
          4.76,
          0.92,
          5.16,
          6.78,
          6.33,
          5.42,
          5.73,
          3.15,
          6.23,
          6.37,
          3.93,
          6.49,
          3.76,
          12.93,
          11.08,
          6.84,
          5.69,
          6.32,
          5.73,
          5.34,
          6.58,
          7.1,
          5.18,
          9.2,
          7.94,
          5.48,
          6.59,
          5.21,
          5.28,
          3.84,
          5.61,
          3.84,
          5.66,
          6.33,
          5.86,
          8.52,
          5.8,
          7.16,
          5.82,
          6,
          11.94,
          6.38,
          7.13,
          7.81,
          8.03,
          5.85,
          5.02,
          7.03,
          6.05,
          8.14,
          6.74,
          7.38,
          8.01,
          7.39,
          9.49,
          6.04,
          8.58,
          9.61,
          10.36,
          9.66,
          15.02,
          10.22,
          13.76,
          6.5,
          7.74,
          10.29,
          9.49,
          4.8,
          7.95,
          6.67,
          7.68,
          8.47,
          9.19,
          6.3,
          7.31,
          7.84,
          6.52,
          6.92,
          7.8,
          7.31,
          7.79,
          6.58,
          6.41,
          6.12,
          8.59,
          7.23,
          7.08,
          6.95,
          6.46,
          5.41,
          7.19,
          8.19,
          6.19,
          7.22,
          7.63,
          4.29,
          4.41,
          3.81,
          3.97,
          5.6,
          6.1,
          9.17,
          7.75,
          4.92,
          4.19,
          6.32,
          8.19,
          5.57,
          6.02,
          7.3,
          4.47,
          6.21,
          4.24,
          5.36,
          6.46,
          5.56,
          8.37,
          7.67,
          7.24,
          7.77,
          6.87,
          9.35,
          10.21,
          6.8,
          7.71,
          7.6,
          7.76,
          8.88,
          8.53,
          8.28,
          8.32,
          8.88,
          6.05,
          8.79,
          15.6,
          2.27,
          6.86,
          8.11,
          8.08,
          9.76,
          8.68,
          7.33,
          8.46,
          6.04,
          9.25,
          7.14,
          7.11,
          9.91,
          6.52,
          6.82,
          7.97,
          11.71,
          7.49,
          8.54,
          6.82,
          7.97,
          6.28,
          10.08,
          7.16,
          5.03,
          7.54,
          4.98,
          7.13,
          9.11,
          7.97,
          3.55,
          6.38,
          9.4,
          8.91,
          7.53,
          10.2,
          20.75,
          8.83,
          16.29,
          8.29,
          5.5,
          8.49,
          4.16,
          18.25,
          6.37,
          9.52,
          18.82,
          22.43,
          19.66,
          9.88,
          7.22,
          9.35,
          19.97,
          27.85,
          14.58,
          33.01,
          2.9,
          26.21,
          28.8,
          19.1,
          8.42,
          8.45,
          8.22,
          7.3,
          7.46,
          7.36,
          6.4,
          7.81,
          7.63,
          9.57,
          7.53,
          8.02,
          9.38,
          7.51,
          8.39,
          8.84,
          7.34,
          7.9,
          7.65,
          7.51,
          7.89,
          7.83,
          9.36,
          9.99,
          8.56,
          9.64,
          8.29,
          0.04,
          8.09,
          7.95,
          10.02,
          7.76,
          8.77,
          7.84,
          9.35,
          7.65,
          8.09,
          10.27,
          5.91,
          14.69,
          7.06,
          5.98,
          6.03,
          7.48,
          6.01,
          8.36,
          5.43,
          7.27,
          7.17,
          11.57,
          7.83,
          9.22,
          12.27,
          8.87,
          8.18,
          10.99,
          8.47,
          9.33,
          6.29,
          6.21,
          5.9,
          8.04,
          8.32,
          5.02,
          7.96,
          9.33,
          8.19,
          6.42,
          7.48,
          7.89,
          7.65,
          7.33,
          7.39,
          6.51,
          9.21,
          11.34,
          6.97,
          11.2,
          9.8,
          8.37,
          7.91,
          10.02,
          9.94,
          8.83,
          7.93,
          9.21,
          10.85,
          5.94,
          7.25,
          7.73,
          8.73,
          7.49,
          7.73,
          9.32,
          10.84,
          8.62,
          8.54,
          10.06,
          4.49,
          7.86,
          8.83,
          5.13,
          8.05,
          4.43,
          10.57,
          5.11,
          6.34,
          16.43,
          9.7,
          6.77,
          7.62,
          2.54,
          11.46,
          7.1,
          10.39,
          10.11,
          9.76,
          3.05,
          6.02,
          15.71,
          1.96,
          8.02,
          7.16,
          4.12,
          7.84,
          3.99,
          6.66,
          6.31,
          6.42,
          5.56,
          10.05,
          27.66,
          16.06,
          14.26,
          16.5,
          17.42,
          18.56,
          16.65,
          9,
          8.4,
          6.95,
          6.83,
          12.16,
          11.49,
          11.66,
          14.46,
          12.64,
          9.65,
          11.2,
          11.66,
          15.74,
          11.29,
          8.59,
          9.85,
          7.32,
          6.47,
          10.54,
          3.74,
          5.67,
          5.98,
          7.2,
          7.52,
          6.1,
          4.87,
          5,
          6.26,
          6.04,
          8.65,
          10.25,
          8.21,
          8.48,
          7.98,
          6.86,
          7.02,
          7.29,
          5.9,
          7.87,
          6.73,
          6.78,
          7.29,
          9.29,
          8.98,
          7.38,
          9.33,
          6.57,
          8.17,
          9.52,
          7.22,
          7.98,
          9.72,
          5.17,
          7.21,
          8.32,
          7.98,
          8.27,
          8.02,
          7.43,
          7.48,
          8.55,
          10.23,
          6.76,
          7.42,
          8.14,
          11.45,
          6.57,
          8.78,
          4.71,
          6.71,
          4.82,
          4.83,
          6.26,
          13.32,
          6.71,
          4.45,
          5.33,
          4.3,
          21.86,
          6.04,
          5.7,
          9.2,
          9.56,
          7.59,
          7.85,
          8.25,
          6.97,
          5.71,
          7.98,
          9.42,
          9.88,
          9.19,
          9.19,
          5.58,
          5.08,
          4.07,
          7.06,
          5.11,
          5.45,
          5.17,
          7.38,
          7.1,
          7.03,
          6.13,
          6.81,
          1.54,
          6.42,
          11.95,
          7.95,
          11.43,
          8.06,
          10.23,
          9.52,
          11.77,
          7.35,
          6.77,
          10.45,
          9.06,
          6.83,
          6.19,
          4.53,
          5.42,
          7.02,
          10.18,
          8.23,
          8.07,
          9.11,
          8.51,
          8.56,
          7.82,
          11.61,
          7.89,
          8.76,
          6.4,
          6.65,
          9.82,
          10.78,
          6.91,
          12.45,
          9.54,
          7.64,
          7.48,
          10.67,
          5.31,
          8.16,
          8.66,
          6.77,
          6.41,
          6.75,
          9.87,
          5.54,
          9.26,
          8.32,
          9.87,
          9.16,
          7.8,
          9.1,
          10.57,
          3.89,
          4.99,
          6.15,
          7.07,
          4.88,
          4.61,
          4.15,
          5.08,
          8.21,
          6.15,
          5.77,
          6.42,
          9.67,
          16.07,
          7.7,
          9.02,
          8.2,
          5.01,
          9.44,
          10.64,
          3.96,
          6.11,
          6.17,
          8.34,
          3.32,
          4.14,
          7.43,
          5.38,
          4.94,
          3.65,
          7.6,
          2.84,
          5.37,
          6.31,
          6.86,
          4.75,
          7.99,
          7.54,
          4.8,
          7.55,
          4.96,
          6.92,
          4.37,
          6.48,
          4.34,
          5.36,
          6.57,
          4.97,
          5.79,
          8.06,
          10.29,
          7.31,
          7.04,
          6.93,
          9.41,
          6.26,
          8.34,
          7.77,
          6.82,
          5.04,
          4.79,
          6.06,
          1.16,
          5.87,
          3.34,
          6.02,
          1.07,
          6.19,
          1.74,
          6.74,
          9.09,
          9.32,
          5.42,
          6.17,
          7.7,
          6.74,
          6.97,
          6.56,
          5.95,
          5.72,
          6.42,
          7.11,
          8.32,
          6.57,
          8.71,
          6.62,
          7.89,
          5.03,
          468.02,
          1005.58,
          453.07,
          445.19,
          461.09,
          472.32,
          467.03,
          483.41,
          504.02,
          467.66,
          493.92,
          484.85,
          469.88,
          527.28,
          441.38,
          512.74,
          490.33,
          476.13,
          463.71,
          474.3,
          491.78,
          470.76,
          497.45,
          501.81,
          466.19,
          523.9,
          486.43,
          491.71,
          492.11,
          481.73,
          477.93,
          483.54,
          512.23,
          517.78,
          488.07,
          470.32,
          480.45,
          464.88,
          489.89,
          207.07,
          518.17,
          479.38,
          195.5,
          510.91,
          478.78,
          477.41,
          200.77,
          490,
          475.08,
          198.12,
          477.15,
          482.22,
          192.31,
          512.46,
          200.63,
          481.3,
          475.94,
          486.89,
          218.29,
          510.46,
          453.62,
          213.39,
          512.85,
          464.13,
          197.45,
          462.13,
          213.26,
          481.66,
          464.82,
          201.93,
          496.24,
          522.8,
          493.55,
          465.83,
          175.35,
          197.99,
          493.13,
          494.36,
          517.21,
          209.77,
          525.37,
          487.65,
          200.92,
          529.52,
          513.55,
          196.93,
          472.53,
          205.46,
          518.69,
          479.11,
          467.08,
          547.72,
          204.76,
          494.53,
          205.04,
          493.98,
          202.22,
          479.13,
          204.21,
          503.76,
          203.87,
          506.93,
          203.24,
          436.18,
          199,
          480.29,
          188.77,
          8.64,
          6.94,
          8.73,
          8.71,
          9.83,
          10.99,
          8.42,
          7.69,
          7.26,
          10.26,
          8.42,
          8.14,
          7.68,
          8.58,
          7.13,
          9.35,
          8.36,
          6.86,
          7.12,
          9.04,
          8.11,
          10.36,
          10.37,
          7.36,
          6.1,
          5.87,
          8.9,
          6.52,
          9.05,
          6.4,
          9.15,
          9.08,
          8.6,
          7.65,
          8.77,
          5.63,
          8.6,
          4.85,
          6.04,
          7.4,
          9.64,
          9.04,
          10.9,
          6.86,
          8.52,
          9.43,
          7.16,
          8.8,
          8.24,
          9.96,
          9.65,
          11.05,
          10.07,
          8.66,
          8.96,
          8.34,
          9.29,
          8.84,
          9.75,
          9.45,
          9.07,
          5.81,
          5.71,
          5.6,
          11.92,
          8.22,
          11.01,
          1.19,
          10.92,
          8.4,
          7.15,
          11.93,
          7.95,
          9.41,
          6.2,
          1.32,
          10.48,
          12.14,
          7.2,
          8.1,
          9.31,
          8.88,
          8.84,
          11.09,
          8.62,
          6.85,
          9.24,
          5.79,
          5.62,
          8.09,
          7.18,
          18.31,
          8.72,
          6.06,
          10.54,
          8.93,
          8.06,
          7.03,
          7.63,
          7.11,
          10.7,
          5.01,
          12.21,
          7.57,
          8.18,
          13.34,
          9.33,
          10.12,
          8.03,
          6.91,
          10.16,
          8.83,
          6.21,
          7.14,
          10.67,
          6.48,
          7.73,
          7.28,
          6.83,
          6.58,
          8.26,
          10.82,
          8.61,
          7.82,
          10.23,
          7.52,
          5.78,
          6.55,
          2.53,
          6.49,
          3.13,
          5.4,
          7.12,
          1.37,
          7.11,
          5.23,
          6.25,
          2.01,
          3.12,
          7.22,
          6.73,
          5.8,
          6.69,
          6.46,
          7.54,
          6.6,
          7.11,
          9.06,
          10.54,
          9.89,
          10.02,
          7.73,
          9.55,
          9.88,
          11.46,
          6.73,
          3.13,
          4.95,
          7.26,
          7.03,
          6.62,
          5.63,
          6.96,
          6.34,
          6.27,
          5.61,
          3.33,
          12.03,
          10.25,
          10.04,
          10.21,
          14.67,
          10.34,
          10.64,
          15.85,
          2.68,
          10.69,
          11.17,
          8.33,
          7.34,
          8.27,
          8.09,
          6.92,
          8.41,
          6.9,
          7.98,
          7.68,
          10.48,
          7.74,
          7.37,
          10.88,
          3.72,
          13.57,
          7.08,
          8.7,
          1.72,
          6.92,
          8.41,
          7.39,
          5.72,
          6.1,
          4.75,
          7.02,
          5.3,
          10.36,
          5.99,
          12.44,
          7.3,
          8.83,
          8.1,
          12.18,
          7.78,
          6.31,
          11.41,
          9.85,
          7.8,
          8.21,
          10.42,
          7.75,
          8.51,
          7.71,
          6.42,
          7.26,
          5.79,
          5.94,
          6.97,
          8.71,
          4.48,
          3.43,
          5.08,
          8.7,
          6.99,
          7.76,
          9.55,
          7.88,
          6.66,
          5.45,
          4.88,
          10.61,
          466.27,
          516.62,
          505.97,
          453.95,
          471.07,
          497.92,
          494.65,
          277.03,
          245.93,
          248.43,
          253.87,
          255.07,
          255.43,
          235.41,
          260.42,
          244.38,
          254.49,
          237.66,
          264.31,
          242.08,
          244.28,
          252.82,
          248.8,
          240.82,
          242.15,
          241.42,
          244.59,
          243.42,
          241.81,
          243.19,
          241.71,
          235.78,
          233.29,
          242.05,
          312.46,
          264.11,
          243.3,
          254.83,
          245.01,
          240.07,
          241.02,
          342.14,
          329.93,
          237.33,
          491.43,
          234.01,
          239.2,
          321.6,
          251.93,
          246.58,
          242.62,
          247.01,
          354.45,
          241.33,
          239.57,
          323.08,
          318.21,
          477.85,
          465.28,
          1010.46,
          4.89,
          516.28,
          497.23,
          528.82,
          512.9,
          509.59,
          532.98,
          489.35,
          515.92,
          521.22,
          543.74,
          559.86,
          480.31,
          491.75,
          511.92,
          482.33,
          465.3,
          551.06,
          526.2,
          511.96,
          503.39,
          501.22,
          522.6,
          488.64,
          511.72,
          469.85,
          525.42,
          470.36,
          3,
          4.3,
          4.44,
          4.24,
          4.34,
          3.34,
          3.73,
          3.61,
          2.49,
          2.99,
          3.26,
          3.7,
          4.1,
          3.3,
          3.4,
          3.53,
          2.44,
          3.09,
          2.33,
          2.92,
          3.34,
          4.03,
          3.67,
          5.23,
          4.55,
          5.59,
          6.02,
          7.89,
          4.35,
          5.15,
          5.44,
          3.98,
          5.12,
          8.45,
          2.93,
          4.1,
          3.86,
          5.29,
          5.39,
          6.19,
          4.04,
          5.19,
          3.72,
          3.32,
          4.59,
          5.02,
          4.37,
          8.31,
          2.64,
          6.95,
          8.27,
          0.3,
          8.37,
          8.33,
          5.94,
          4.37,
          9.1,
          0.81,
          7.27,
          6.5,
          6.22,
          6.5,
          9.15,
          7.65,
          9.01,
          9.04,
          11.47,
          5.49,
          13.7,
          10.29,
          11.6,
          8.1,
          10.9,
          9.06,
          8.63,
          8.89,
          8.45,
          12.54,
          9.71,
          9.05,
          8.46,
          10.48,
          12.15,
          7.68,
          468.06,
          502.46,
          19.87,
          93.9,
          488.44,
          492.99,
          477.85,
          496.11,
          489.47,
          483,
          480.78,
          479.01,
          3.83,
          4.6,
          4.4,
          5.08,
          3.29,
          4.63,
          3.09,
          2.65,
          4.09,
          5.75,
          5.55,
          462.26,
          455.6,
          498.69,
          499.49,
          463.64,
          6.18,
          10.64,
          4.04,
          3.71,
          4.94,
          5.53,
          4.1,
          4,
          6.64,
          3.81,
          3.52,
          3.71,
          3.35,
          4.01,
          3.2,
          3.62,
          3.42,
          4.39,
          3.45,
          3.23,
          3.4,
          4.18,
          4.27,
          3.76,
          3.92,
          3.39,
          4.04,
          3.59,
          3.41,
          3.56,
          3.33,
          4.26,
          3.63,
          4.13,
          3.32,
          4.61,
          4.67,
          58.29,
          3.93,
          7.9,
          4.23,
          3.19,
          3.04,
          1.99,
          2.21,
          9.11,
          3.1,
          5.49,
          6.17,
          9.62,
          6.12,
          5.35,
          4.29,
          2.97,
          4.11,
          4.94,
          3.93,
          4.38,
          8.15,
          2.79,
          9.14,
          2.51,
          3.06,
          343.64,
          327.95,
          2.53,
          4,
          8.5,
          4.83,
          8.74,
          3.82,
          5.63,
          6.03,
          4.3,
          3.53,
          7.5,
          4.11,
          6.64,
          4.05,
          4.31,
          8.21,
          8.75,
          2.09,
          1.15,
          2.09,
          4.1,
          2.73,
          3.64,
          4.02,
          5.89,
          3.26,
          3.94,
          2.34,
          2.96,
          3.67,
          2.39,
          2.86,
          3.41,
          2.2,
          2.54,
          3.11,
          6.36,
          3.65,
          6.35,
          3.17,
          2.09,
          2.64,
          4.97,
          3.13,
          3.2,
          3.27,
          4.8,
          10.08,
          3.48,
          10.38,
          9.33,
          6.2,
          3.67,
          1.88,
          4.56,
          8.84,
          5.71,
          6.16,
          2.26,
          5.84,
          4.52,
          3.88,
          2.15,
          5.29,
          4.61,
          4.17,
          2.13,
          4.11,
          15.69,
          4.5,
          2.18,
          1.13,
          3.5,
          3.15
         ],
         "yaxis": "y"
        }
       ],
       "layout": {
        "legend": {
         "tracegroupgap": 0
        },
        "template": {
         "data": {
          "bar": [
           {
            "error_x": {
             "color": "#2a3f5f"
            },
            "error_y": {
             "color": "#2a3f5f"
            },
            "marker": {
             "line": {
              "color": "#E5ECF6",
              "width": 0.5
             },
             "pattern": {
              "fillmode": "overlay",
              "size": 10,
              "solidity": 0.2
             }
            },
            "type": "bar"
           }
          ],
          "barpolar": [
           {
            "marker": {
             "line": {
              "color": "#E5ECF6",
              "width": 0.5
             },
             "pattern": {
              "fillmode": "overlay",
              "size": 10,
              "solidity": 0.2
             }
            },
            "type": "barpolar"
           }
          ],
          "carpet": [
           {
            "aaxis": {
             "endlinecolor": "#2a3f5f",
             "gridcolor": "white",
             "linecolor": "white",
             "minorgridcolor": "white",
             "startlinecolor": "#2a3f5f"
            },
            "baxis": {
             "endlinecolor": "#2a3f5f",
             "gridcolor": "white",
             "linecolor": "white",
             "minorgridcolor": "white",
             "startlinecolor": "#2a3f5f"
            },
            "type": "carpet"
           }
          ],
          "choropleth": [
           {
            "colorbar": {
             "outlinewidth": 0,
             "ticks": ""
            },
            "type": "choropleth"
           }
          ],
          "contour": [
           {
            "colorbar": {
             "outlinewidth": 0,
             "ticks": ""
            },
            "colorscale": [
             [
              0,
              "#0d0887"
             ],
             [
              0.1111111111111111,
              "#46039f"
             ],
             [
              0.2222222222222222,
              "#7201a8"
             ],
             [
              0.3333333333333333,
              "#9c179e"
             ],
             [
              0.4444444444444444,
              "#bd3786"
             ],
             [
              0.5555555555555556,
              "#d8576b"
             ],
             [
              0.6666666666666666,
              "#ed7953"
             ],
             [
              0.7777777777777778,
              "#fb9f3a"
             ],
             [
              0.8888888888888888,
              "#fdca26"
             ],
             [
              1,
              "#f0f921"
             ]
            ],
            "type": "contour"
           }
          ],
          "contourcarpet": [
           {
            "colorbar": {
             "outlinewidth": 0,
             "ticks": ""
            },
            "type": "contourcarpet"
           }
          ],
          "heatmap": [
           {
            "colorbar": {
             "outlinewidth": 0,
             "ticks": ""
            },
            "colorscale": [
             [
              0,
              "#0d0887"
             ],
             [
              0.1111111111111111,
              "#46039f"
             ],
             [
              0.2222222222222222,
              "#7201a8"
             ],
             [
              0.3333333333333333,
              "#9c179e"
             ],
             [
              0.4444444444444444,
              "#bd3786"
             ],
             [
              0.5555555555555556,
              "#d8576b"
             ],
             [
              0.6666666666666666,
              "#ed7953"
             ],
             [
              0.7777777777777778,
              "#fb9f3a"
             ],
             [
              0.8888888888888888,
              "#fdca26"
             ],
             [
              1,
              "#f0f921"
             ]
            ],
            "type": "heatmap"
           }
          ],
          "heatmapgl": [
           {
            "colorbar": {
             "outlinewidth": 0,
             "ticks": ""
            },
            "colorscale": [
             [
              0,
              "#0d0887"
             ],
             [
              0.1111111111111111,
              "#46039f"
             ],
             [
              0.2222222222222222,
              "#7201a8"
             ],
             [
              0.3333333333333333,
              "#9c179e"
             ],
             [
              0.4444444444444444,
              "#bd3786"
             ],
             [
              0.5555555555555556,
              "#d8576b"
             ],
             [
              0.6666666666666666,
              "#ed7953"
             ],
             [
              0.7777777777777778,
              "#fb9f3a"
             ],
             [
              0.8888888888888888,
              "#fdca26"
             ],
             [
              1,
              "#f0f921"
             ]
            ],
            "type": "heatmapgl"
           }
          ],
          "histogram": [
           {
            "marker": {
             "pattern": {
              "fillmode": "overlay",
              "size": 10,
              "solidity": 0.2
             }
            },
            "type": "histogram"
           }
          ],
          "histogram2d": [
           {
            "colorbar": {
             "outlinewidth": 0,
             "ticks": ""
            },
            "colorscale": [
             [
              0,
              "#0d0887"
             ],
             [
              0.1111111111111111,
              "#46039f"
             ],
             [
              0.2222222222222222,
              "#7201a8"
             ],
             [
              0.3333333333333333,
              "#9c179e"
             ],
             [
              0.4444444444444444,
              "#bd3786"
             ],
             [
              0.5555555555555556,
              "#d8576b"
             ],
             [
              0.6666666666666666,
              "#ed7953"
             ],
             [
              0.7777777777777778,
              "#fb9f3a"
             ],
             [
              0.8888888888888888,
              "#fdca26"
             ],
             [
              1,
              "#f0f921"
             ]
            ],
            "type": "histogram2d"
           }
          ],
          "histogram2dcontour": [
           {
            "colorbar": {
             "outlinewidth": 0,
             "ticks": ""
            },
            "colorscale": [
             [
              0,
              "#0d0887"
             ],
             [
              0.1111111111111111,
              "#46039f"
             ],
             [
              0.2222222222222222,
              "#7201a8"
             ],
             [
              0.3333333333333333,
              "#9c179e"
             ],
             [
              0.4444444444444444,
              "#bd3786"
             ],
             [
              0.5555555555555556,
              "#d8576b"
             ],
             [
              0.6666666666666666,
              "#ed7953"
             ],
             [
              0.7777777777777778,
              "#fb9f3a"
             ],
             [
              0.8888888888888888,
              "#fdca26"
             ],
             [
              1,
              "#f0f921"
             ]
            ],
            "type": "histogram2dcontour"
           }
          ],
          "mesh3d": [
           {
            "colorbar": {
             "outlinewidth": 0,
             "ticks": ""
            },
            "type": "mesh3d"
           }
          ],
          "parcoords": [
           {
            "line": {
             "colorbar": {
              "outlinewidth": 0,
              "ticks": ""
             }
            },
            "type": "parcoords"
           }
          ],
          "pie": [
           {
            "automargin": true,
            "type": "pie"
           }
          ],
          "scatter": [
           {
            "fillpattern": {
             "fillmode": "overlay",
             "size": 10,
             "solidity": 0.2
            },
            "type": "scatter"
           }
          ],
          "scatter3d": [
           {
            "line": {
             "colorbar": {
              "outlinewidth": 0,
              "ticks": ""
             }
            },
            "marker": {
             "colorbar": {
              "outlinewidth": 0,
              "ticks": ""
             }
            },
            "type": "scatter3d"
           }
          ],
          "scattercarpet": [
           {
            "marker": {
             "colorbar": {
              "outlinewidth": 0,
              "ticks": ""
             }
            },
            "type": "scattercarpet"
           }
          ],
          "scattergeo": [
           {
            "marker": {
             "colorbar": {
              "outlinewidth": 0,
              "ticks": ""
             }
            },
            "type": "scattergeo"
           }
          ],
          "scattergl": [
           {
            "marker": {
             "colorbar": {
              "outlinewidth": 0,
              "ticks": ""
             }
            },
            "type": "scattergl"
           }
          ],
          "scattermapbox": [
           {
            "marker": {
             "colorbar": {
              "outlinewidth": 0,
              "ticks": ""
             }
            },
            "type": "scattermapbox"
           }
          ],
          "scatterpolar": [
           {
            "marker": {
             "colorbar": {
              "outlinewidth": 0,
              "ticks": ""
             }
            },
            "type": "scatterpolar"
           }
          ],
          "scatterpolargl": [
           {
            "marker": {
             "colorbar": {
              "outlinewidth": 0,
              "ticks": ""
             }
            },
            "type": "scatterpolargl"
           }
          ],
          "scatterternary": [
           {
            "marker": {
             "colorbar": {
              "outlinewidth": 0,
              "ticks": ""
             }
            },
            "type": "scatterternary"
           }
          ],
          "surface": [
           {
            "colorbar": {
             "outlinewidth": 0,
             "ticks": ""
            },
            "colorscale": [
             [
              0,
              "#0d0887"
             ],
             [
              0.1111111111111111,
              "#46039f"
             ],
             [
              0.2222222222222222,
              "#7201a8"
             ],
             [
              0.3333333333333333,
              "#9c179e"
             ],
             [
              0.4444444444444444,
              "#bd3786"
             ],
             [
              0.5555555555555556,
              "#d8576b"
             ],
             [
              0.6666666666666666,
              "#ed7953"
             ],
             [
              0.7777777777777778,
              "#fb9f3a"
             ],
             [
              0.8888888888888888,
              "#fdca26"
             ],
             [
              1,
              "#f0f921"
             ]
            ],
            "type": "surface"
           }
          ],
          "table": [
           {
            "cells": {
             "fill": {
              "color": "#EBF0F8"
             },
             "line": {
              "color": "white"
             }
            },
            "header": {
             "fill": {
              "color": "#C8D4E3"
             },
             "line": {
              "color": "white"
             }
            },
            "type": "table"
           }
          ]
         },
         "layout": {
          "annotationdefaults": {
           "arrowcolor": "#2a3f5f",
           "arrowhead": 0,
           "arrowwidth": 1
          },
          "autotypenumbers": "strict",
          "coloraxis": {
           "colorbar": {
            "outlinewidth": 0,
            "ticks": ""
           }
          },
          "colorscale": {
           "diverging": [
            [
             0,
             "#8e0152"
            ],
            [
             0.1,
             "#c51b7d"
            ],
            [
             0.2,
             "#de77ae"
            ],
            [
             0.3,
             "#f1b6da"
            ],
            [
             0.4,
             "#fde0ef"
            ],
            [
             0.5,
             "#f7f7f7"
            ],
            [
             0.6,
             "#e6f5d0"
            ],
            [
             0.7,
             "#b8e186"
            ],
            [
             0.8,
             "#7fbc41"
            ],
            [
             0.9,
             "#4d9221"
            ],
            [
             1,
             "#276419"
            ]
           ],
           "sequential": [
            [
             0,
             "#0d0887"
            ],
            [
             0.1111111111111111,
             "#46039f"
            ],
            [
             0.2222222222222222,
             "#7201a8"
            ],
            [
             0.3333333333333333,
             "#9c179e"
            ],
            [
             0.4444444444444444,
             "#bd3786"
            ],
            [
             0.5555555555555556,
             "#d8576b"
            ],
            [
             0.6666666666666666,
             "#ed7953"
            ],
            [
             0.7777777777777778,
             "#fb9f3a"
            ],
            [
             0.8888888888888888,
             "#fdca26"
            ],
            [
             1,
             "#f0f921"
            ]
           ],
           "sequentialminus": [
            [
             0,
             "#0d0887"
            ],
            [
             0.1111111111111111,
             "#46039f"
            ],
            [
             0.2222222222222222,
             "#7201a8"
            ],
            [
             0.3333333333333333,
             "#9c179e"
            ],
            [
             0.4444444444444444,
             "#bd3786"
            ],
            [
             0.5555555555555556,
             "#d8576b"
            ],
            [
             0.6666666666666666,
             "#ed7953"
            ],
            [
             0.7777777777777778,
             "#fb9f3a"
            ],
            [
             0.8888888888888888,
             "#fdca26"
            ],
            [
             1,
             "#f0f921"
            ]
           ]
          },
          "colorway": [
           "#636efa",
           "#EF553B",
           "#00cc96",
           "#ab63fa",
           "#FFA15A",
           "#19d3f3",
           "#FF6692",
           "#B6E880",
           "#FF97FF",
           "#FECB52"
          ],
          "font": {
           "color": "#2a3f5f"
          },
          "geo": {
           "bgcolor": "white",
           "lakecolor": "white",
           "landcolor": "#E5ECF6",
           "showlakes": true,
           "showland": true,
           "subunitcolor": "white"
          },
          "hoverlabel": {
           "align": "left"
          },
          "hovermode": "closest",
          "mapbox": {
           "style": "light"
          },
          "paper_bgcolor": "white",
          "plot_bgcolor": "#E5ECF6",
          "polar": {
           "angularaxis": {
            "gridcolor": "white",
            "linecolor": "white",
            "ticks": ""
           },
           "bgcolor": "#E5ECF6",
           "radialaxis": {
            "gridcolor": "white",
            "linecolor": "white",
            "ticks": ""
           }
          },
          "scene": {
           "xaxis": {
            "backgroundcolor": "#E5ECF6",
            "gridcolor": "white",
            "gridwidth": 2,
            "linecolor": "white",
            "showbackground": true,
            "ticks": "",
            "zerolinecolor": "white"
           },
           "yaxis": {
            "backgroundcolor": "#E5ECF6",
            "gridcolor": "white",
            "gridwidth": 2,
            "linecolor": "white",
            "showbackground": true,
            "ticks": "",
            "zerolinecolor": "white"
           },
           "zaxis": {
            "backgroundcolor": "#E5ECF6",
            "gridcolor": "white",
            "gridwidth": 2,
            "linecolor": "white",
            "showbackground": true,
            "ticks": "",
            "zerolinecolor": "white"
           }
          },
          "shapedefaults": {
           "line": {
            "color": "#2a3f5f"
           }
          },
          "ternary": {
           "aaxis": {
            "gridcolor": "white",
            "linecolor": "white",
            "ticks": ""
           },
           "baxis": {
            "gridcolor": "white",
            "linecolor": "white",
            "ticks": ""
           },
           "bgcolor": "#E5ECF6",
           "caxis": {
            "gridcolor": "white",
            "linecolor": "white",
            "ticks": ""
           }
          },
          "title": {
           "x": 0.05
          },
          "xaxis": {
           "automargin": true,
           "gridcolor": "white",
           "linecolor": "white",
           "ticks": "",
           "title": {
            "standoff": 15
           },
           "zerolinecolor": "white",
           "zerolinewidth": 2
          },
          "yaxis": {
           "automargin": true,
           "gridcolor": "white",
           "linecolor": "white",
           "ticks": "",
           "title": {
            "standoff": 15
           },
           "zerolinecolor": "white",
           "zerolinewidth": 2
          }
         }
        },
        "title": {
         "text": "Соотношение длительности и размера"
        },
        "xaxis": {
         "anchor": "y",
         "domain": [
          0,
          1
         ],
         "title": {
          "text": "Длительность в минутах"
         }
        },
        "yaxis": {
         "anchor": "x",
         "domain": [
          0,
          1
         ],
         "title": {
          "text": "Размер в мегабайтах"
         }
        }
       }
      }
     },
     "metadata": {},
     "output_type": "display_data"
    }
   ],
   "source": [
    "fig = px.scatter(df2, x = 'minutes', y = 'megabytes',\n",
    "                 title='Соотношение длительности и размера',\n",
    "                 labels={'minutes': 'Длительность в минутах', 'megabytes': 'Размер в мегабайтах'})\n",
    "\n",
    "fig.show()"
   ]
  },
  {
   "cell_type": "markdown",
   "metadata": {},
   "source": [
    "## Задание 3."
   ]
  },
  {
   "cell_type": "code",
   "execution_count": 7,
   "metadata": {},
   "outputs": [],
   "source": [
    "connection_string = read_credentials()\n",
    "engine = db.create_engine(connection_string)\n",
    "conn = engine.connect()\n",
    "\n",
    "query = \"\"\"\n",
    "select\n",
    "    i.total as total\n",
    "    , i.billing_country as country\n",
    "from invoice i;\n",
    "\"\"\"\n",
    "\n",
    "df3 = pd.read_sql_query(query, conn)\n",
    "conn.close()"
   ]
  },
  {
   "cell_type": "code",
   "execution_count": 8,
   "metadata": {},
   "outputs": [
    {
     "data": {
      "application/vnd.plotly.v1+json": {
       "config": {
        "plotlyServerURL": "https://plot.ly"
       },
       "data": [
        {
         "alignmentgroup": "True",
         "hovertemplate": "Страны=%{x}<br>Доход=%{y}<extra></extra>",
         "legendgroup": "",
         "marker": {
          "color": "#636efa"
         },
         "name": "",
         "notched": false,
         "offsetgroup": "",
         "orientation": "v",
         "showlegend": false,
         "type": "box",
         "x": [
          "Germany",
          "Norway",
          "Belgium",
          "Canada",
          "USA",
          "Germany",
          "Germany",
          "France",
          "France",
          "Ireland",
          "United Kingdom",
          "Germany",
          "USA",
          "USA",
          "USA",
          "USA",
          "USA",
          "Canada",
          "France",
          "United Kingdom",
          "Australia",
          "Chile",
          "India",
          "Norway",
          "Brazil",
          "USA",
          "Canada",
          "Portugal",
          "Germany",
          "Germany",
          "France",
          "Netherlands",
          "Chile",
          "Brazil",
          "Brazil",
          "Canada",
          "USA",
          "USA",
          "USA",
          "Germany",
          "Spain",
          "Sweden",
          "United Kingdom",
          "Australia",
          "India",
          "Czech Republic",
          "Canada",
          "Canada",
          "Canada",
          "Canada",
          "Portugal",
          "Germany",
          "Finland",
          "United Kingdom",
          "Belgium",
          "Denmark",
          "Brazil",
          "Brazil",
          "USA",
          "USA",
          "Canada",
          "Ireland",
          "Italy",
          "Poland",
          "Sweden",
          "Australia",
          "Germany",
          "Brazil",
          "USA",
          "USA",
          "USA",
          "Canada",
          "Portugal",
          "France",
          "Poland",
          "Norway",
          "Czech Republic",
          "Austria",
          "Denmark",
          "Brazil",
          "USA",
          "USA",
          "France",
          "France",
          "Hungary",
          "Italy",
          "Sweden",
          "Chile",
          "Austria",
          "USA",
          "USA",
          "USA",
          "USA",
          "Canada",
          "Germany",
          "Hungary",
          "India",
          "Brazil",
          "Canada",
          "Czech Republic",
          "Denmark",
          "Canada",
          "USA",
          "Germany",
          "France",
          "France",
          "France",
          "Italy",
          "United Kingdom",
          "Canada",
          "USA",
          "USA",
          "USA",
          "USA",
          "USA",
          "Canada",
          "France",
          "Australia",
          "Argentina",
          "India",
          "Brazil",
          "Czech Republic",
          "Brazil",
          "USA",
          "Portugal",
          "Portugal",
          "Germany",
          "France",
          "France",
          "Poland",
          "India",
          "Brazil",
          "Canada",
          "USA",
          "USA",
          "USA",
          "USA",
          "Germany",
          "Sweden",
          "United Kingdom",
          "United Kingdom",
          "Argentina",
          "Brazil",
          "Austria",
          "USA",
          "Canada",
          "Canada",
          "Canada",
          "Portugal",
          "France",
          "Hungary",
          "United Kingdom",
          "Denmark",
          "Brazil",
          "Brazil",
          "Canada",
          "USA",
          "USA",
          "Canada",
          "Italy",
          "Netherlands",
          "Spain",
          "United Kingdom",
          "Argentina",
          "Canada",
          "Brazil",
          "USA",
          "USA",
          "Canada",
          "Canada",
          "Portugal",
          "France",
          "Spain",
          "Czech Republic",
          "Czech Republic",
          "Belgium",
          "Brazil",
          "Canada",
          "USA",
          "Canada",
          "France",
          "Finland",
          "Ireland",
          "Netherlands",
          "United Kingdom",
          "India",
          "Belgium",
          "USA",
          "USA",
          "USA",
          "USA",
          "Canada",
          "Germany",
          "Ireland",
          "Brazil",
          "Germany",
          "Norway",
          "Czech Republic",
          "Brazil",
          "USA",
          "USA",
          "France",
          "France",
          "France",
          "Finland",
          "Netherlands",
          "United Kingdom",
          "Norway",
          "USA",
          "USA",
          "USA",
          "USA",
          "USA",
          "Canada",
          "France",
          "Argentina",
          "Chile",
          "India",
          "Germany",
          "Czech Republic",
          "Brazil",
          "USA",
          "Portugal",
          "Germany",
          "Germany",
          "France",
          "Finland",
          "Spain",
          "India",
          "Canada",
          "Canada",
          "USA",
          "USA",
          "USA",
          "Canada",
          "Germany",
          "United Kingdom",
          "United Kingdom",
          "Australia",
          "Chile",
          "Germany",
          "Belgium",
          "USA",
          "Canada",
          "Canada",
          "Portugal",
          "Germany",
          "France",
          "Ireland",
          "Australia",
          "Brazil",
          "Brazil",
          "Brazil",
          "Canada",
          "USA",
          "USA",
          "Portugal",
          "Netherlands",
          "Poland",
          "Sweden",
          "United Kingdom",
          "Chile",
          "Norway",
          "Brazil",
          "USA",
          "USA",
          "Canada",
          "Canada",
          "Germany",
          "France",
          "Sweden",
          "Czech Republic",
          "Austria",
          "Denmark",
          "Brazil",
          "Canada",
          "USA",
          "Canada",
          "Finland",
          "Hungary",
          "Italy",
          "Poland",
          "United Kingdom",
          "India",
          "Denmark",
          "USA",
          "USA",
          "USA",
          "USA",
          "Canada",
          "Germany",
          "Italy",
          "Germany",
          "Canada",
          "Czech Republic",
          "Austria",
          "Brazil",
          "USA",
          "USA",
          "France",
          "France",
          "France",
          "Hungary",
          "Poland",
          "Australia",
          "Czech Republic",
          "USA",
          "USA",
          "USA",
          "USA",
          "USA",
          "Portugal",
          "France",
          "Chile",
          "India",
          "Brazil",
          "Canada",
          "Austria",
          "Brazil",
          "USA",
          "Germany",
          "Germany",
          "France",
          "France",
          "Hungary",
          "Sweden",
          "Brazil",
          "Canada",
          "USA",
          "USA",
          "USA",
          "USA",
          "Canada",
          "France",
          "United Kingdom",
          "United Kingdom",
          "Argentina",
          "India",
          "Canada",
          "Denmark",
          "USA",
          "Canada",
          "Canada",
          "Portugal",
          "Germany",
          "France",
          "Italy",
          "Argentina",
          "Brazil",
          "Brazil",
          "Canada",
          "USA",
          "USA",
          "USA",
          "Portugal",
          "Poland",
          "Spain",
          "United Kingdom",
          "United Kingdom",
          "India",
          "Czech Republic",
          "Canada",
          "USA",
          "Canada",
          "Canada",
          "Canada",
          "Germany",
          "France",
          "United Kingdom",
          "Austria",
          "Belgium",
          "Brazil",
          "Brazil",
          "USA",
          "USA",
          "Canada",
          "Hungary",
          "Ireland",
          "Netherlands",
          "Spain",
          "United Kingdom",
          "Brazil",
          "Brazil",
          "USA",
          "USA",
          "USA",
          "Canada",
          "Canada",
          "France",
          "Netherlands",
          "Canada",
          "Norway",
          "Czech Republic",
          "Belgium",
          "Brazil",
          "USA",
          "USA",
          "France",
          "France",
          "Finland",
          "Ireland",
          "Spain",
          "Argentina",
          "Czech Republic",
          "USA",
          "USA",
          "USA",
          "USA",
          "Canada",
          "Portugal",
          "Finland",
          "India"
         ],
         "x0": " ",
         "xaxis": "x",
         "y": [
          1.98,
          3.96,
          5.94,
          8.91,
          13.86,
          0.99,
          1.98,
          1.98,
          3.96,
          5.94,
          8.91,
          13.86,
          0.99,
          1.98,
          1.98,
          3.96,
          5.94,
          8.91,
          13.86,
          0.99,
          1.98,
          1.98,
          3.96,
          5.94,
          8.91,
          13.86,
          0.99,
          1.98,
          1.98,
          3.96,
          5.94,
          8.91,
          13.86,
          0.99,
          1.98,
          1.98,
          3.96,
          5.94,
          8.91,
          13.86,
          0.99,
          1.98,
          1.98,
          3.96,
          5.94,
          8.91,
          13.86,
          0.99,
          1.98,
          1.98,
          3.96,
          5.94,
          8.91,
          13.86,
          0.99,
          1.98,
          1.98,
          3.96,
          5.94,
          8.91,
          13.86,
          0.99,
          1.98,
          1.98,
          3.96,
          5.94,
          8.91,
          13.86,
          0.99,
          1.98,
          1.98,
          3.96,
          5.94,
          8.91,
          13.86,
          0.99,
          1.98,
          1.98,
          3.96,
          5.94,
          8.91,
          13.86,
          0.99,
          1.98,
          1.98,
          3.96,
          6.94,
          17.91,
          18.86,
          0.99,
          1.98,
          1.98,
          3.96,
          5.94,
          8.91,
          21.86,
          1.99,
          3.98,
          3.98,
          3.96,
          5.94,
          9.91,
          15.86,
          0.99,
          1.98,
          1.98,
          3.96,
          5.94,
          8.91,
          13.86,
          0.99,
          1.98,
          1.98,
          3.96,
          5.94,
          8.91,
          13.86,
          0.99,
          1.98,
          1.98,
          3.96,
          5.94,
          8.91,
          13.86,
          0.99,
          1.98,
          1.98,
          3.96,
          5.94,
          8.91,
          13.86,
          0.99,
          1.98,
          1.98,
          3.96,
          5.94,
          8.91,
          13.86,
          0.99,
          1.98,
          1.98,
          3.96,
          5.94,
          8.91,
          13.86,
          0.99,
          1.98,
          1.98,
          3.96,
          5.94,
          8.91,
          13.86,
          0.99,
          1.98,
          1.98,
          3.96,
          5.94,
          8.91,
          13.86,
          0.99,
          1.98,
          1.98,
          3.96,
          5.94,
          8.91,
          13.86,
          0.99,
          1.98,
          1.98,
          3.96,
          5.94,
          8.91,
          13.86,
          0.99,
          1.98,
          1.98,
          3.96,
          5.94,
          8.91,
          13.86,
          0.99,
          1.98,
          1.98,
          3.96,
          5.94,
          8.91,
          13.86,
          0.99,
          1.98,
          1.98,
          3.96,
          5.94,
          14.91,
          21.86,
          0.99,
          1.98,
          1.98,
          3.96,
          5.94,
          8.91,
          18.86,
          1.99,
          2.98,
          3.98,
          7.96,
          8.94,
          8.91,
          15.86,
          0.99,
          1.98,
          1.98,
          3.96,
          5.94,
          8.91,
          13.86,
          0.99,
          1.98,
          1.98,
          3.96,
          5.94,
          8.91,
          13.86,
          0.99,
          1.98,
          1.98,
          3.96,
          5.94,
          8.91,
          13.86,
          0.99,
          1.98,
          1.98,
          3.96,
          5.94,
          8.91,
          13.86,
          0.99,
          1.98,
          1.98,
          3.96,
          5.94,
          8.91,
          13.86,
          0.99,
          1.98,
          1.98,
          3.96,
          5.94,
          8.91,
          13.86,
          0.99,
          1.98,
          1.98,
          3.96,
          5.94,
          8.91,
          13.86,
          0.99,
          1.98,
          1.98,
          3.96,
          5.94,
          8.91,
          13.86,
          0.99,
          1.98,
          1.98,
          3.96,
          5.94,
          8.91,
          13.86,
          0.99,
          1.98,
          1.98,
          3.96,
          5.94,
          8.91,
          13.86,
          0.99,
          1.98,
          1.98,
          3.96,
          5.94,
          8.91,
          13.86,
          0.99,
          1.98,
          1.98,
          3.96,
          5.94,
          8.91,
          13.86,
          0.99,
          1.98,
          1.98,
          3.96,
          5.94,
          10.91,
          23.86,
          0.99,
          1.98,
          1.98,
          3.96,
          5.94,
          8.91,
          16.86,
          1.99,
          3.98,
          3.98,
          7.96,
          11.94,
          10.91,
          16.86,
          0.99,
          1.98,
          1.98,
          3.96,
          5.94,
          8.91,
          13.86,
          0.99,
          1.98,
          1.98,
          3.96,
          5.94,
          8.91,
          13.86,
          0.99,
          1.98,
          1.98,
          3.96,
          5.94,
          8.91,
          13.86,
          0.99,
          1.98,
          1.98,
          3.96,
          5.94,
          8.91,
          13.86,
          0.99,
          1.98,
          1.98,
          3.96,
          5.94,
          8.91,
          13.86,
          0.99,
          1.98,
          1.98,
          3.96,
          5.94,
          8.91,
          13.86,
          0.99,
          1.98,
          1.98,
          3.96,
          5.94,
          8.91,
          13.86,
          0.99,
          1.98,
          1.98,
          3.96,
          5.94,
          8.91,
          13.86,
          0.99,
          1.98,
          1.98,
          3.96,
          5.94,
          8.91,
          13.86,
          0.99,
          1.98,
          1.98,
          3.96,
          5.94,
          8.91,
          13.86,
          0.99,
          1.98,
          1.98,
          3.96,
          5.94,
          8.91,
          13.86,
          0.99,
          1.98,
          1.98,
          3.96,
          5.94,
          8.91,
          13.86,
          0.99,
          1.98,
          1.98,
          3.96,
          5.94,
          8.91,
          25.86,
          0.99,
          1.98,
          1.98,
          3.96,
          5.94,
          8.91,
          13.86,
          1.99
         ],
         "y0": " ",
         "yaxis": "y"
        }
       ],
       "layout": {
        "boxmode": "group",
        "legend": {
         "tracegroupgap": 0
        },
        "template": {
         "data": {
          "bar": [
           {
            "error_x": {
             "color": "#2a3f5f"
            },
            "error_y": {
             "color": "#2a3f5f"
            },
            "marker": {
             "line": {
              "color": "#E5ECF6",
              "width": 0.5
             },
             "pattern": {
              "fillmode": "overlay",
              "size": 10,
              "solidity": 0.2
             }
            },
            "type": "bar"
           }
          ],
          "barpolar": [
           {
            "marker": {
             "line": {
              "color": "#E5ECF6",
              "width": 0.5
             },
             "pattern": {
              "fillmode": "overlay",
              "size": 10,
              "solidity": 0.2
             }
            },
            "type": "barpolar"
           }
          ],
          "carpet": [
           {
            "aaxis": {
             "endlinecolor": "#2a3f5f",
             "gridcolor": "white",
             "linecolor": "white",
             "minorgridcolor": "white",
             "startlinecolor": "#2a3f5f"
            },
            "baxis": {
             "endlinecolor": "#2a3f5f",
             "gridcolor": "white",
             "linecolor": "white",
             "minorgridcolor": "white",
             "startlinecolor": "#2a3f5f"
            },
            "type": "carpet"
           }
          ],
          "choropleth": [
           {
            "colorbar": {
             "outlinewidth": 0,
             "ticks": ""
            },
            "type": "choropleth"
           }
          ],
          "contour": [
           {
            "colorbar": {
             "outlinewidth": 0,
             "ticks": ""
            },
            "colorscale": [
             [
              0,
              "#0d0887"
             ],
             [
              0.1111111111111111,
              "#46039f"
             ],
             [
              0.2222222222222222,
              "#7201a8"
             ],
             [
              0.3333333333333333,
              "#9c179e"
             ],
             [
              0.4444444444444444,
              "#bd3786"
             ],
             [
              0.5555555555555556,
              "#d8576b"
             ],
             [
              0.6666666666666666,
              "#ed7953"
             ],
             [
              0.7777777777777778,
              "#fb9f3a"
             ],
             [
              0.8888888888888888,
              "#fdca26"
             ],
             [
              1,
              "#f0f921"
             ]
            ],
            "type": "contour"
           }
          ],
          "contourcarpet": [
           {
            "colorbar": {
             "outlinewidth": 0,
             "ticks": ""
            },
            "type": "contourcarpet"
           }
          ],
          "heatmap": [
           {
            "colorbar": {
             "outlinewidth": 0,
             "ticks": ""
            },
            "colorscale": [
             [
              0,
              "#0d0887"
             ],
             [
              0.1111111111111111,
              "#46039f"
             ],
             [
              0.2222222222222222,
              "#7201a8"
             ],
             [
              0.3333333333333333,
              "#9c179e"
             ],
             [
              0.4444444444444444,
              "#bd3786"
             ],
             [
              0.5555555555555556,
              "#d8576b"
             ],
             [
              0.6666666666666666,
              "#ed7953"
             ],
             [
              0.7777777777777778,
              "#fb9f3a"
             ],
             [
              0.8888888888888888,
              "#fdca26"
             ],
             [
              1,
              "#f0f921"
             ]
            ],
            "type": "heatmap"
           }
          ],
          "heatmapgl": [
           {
            "colorbar": {
             "outlinewidth": 0,
             "ticks": ""
            },
            "colorscale": [
             [
              0,
              "#0d0887"
             ],
             [
              0.1111111111111111,
              "#46039f"
             ],
             [
              0.2222222222222222,
              "#7201a8"
             ],
             [
              0.3333333333333333,
              "#9c179e"
             ],
             [
              0.4444444444444444,
              "#bd3786"
             ],
             [
              0.5555555555555556,
              "#d8576b"
             ],
             [
              0.6666666666666666,
              "#ed7953"
             ],
             [
              0.7777777777777778,
              "#fb9f3a"
             ],
             [
              0.8888888888888888,
              "#fdca26"
             ],
             [
              1,
              "#f0f921"
             ]
            ],
            "type": "heatmapgl"
           }
          ],
          "histogram": [
           {
            "marker": {
             "pattern": {
              "fillmode": "overlay",
              "size": 10,
              "solidity": 0.2
             }
            },
            "type": "histogram"
           }
          ],
          "histogram2d": [
           {
            "colorbar": {
             "outlinewidth": 0,
             "ticks": ""
            },
            "colorscale": [
             [
              0,
              "#0d0887"
             ],
             [
              0.1111111111111111,
              "#46039f"
             ],
             [
              0.2222222222222222,
              "#7201a8"
             ],
             [
              0.3333333333333333,
              "#9c179e"
             ],
             [
              0.4444444444444444,
              "#bd3786"
             ],
             [
              0.5555555555555556,
              "#d8576b"
             ],
             [
              0.6666666666666666,
              "#ed7953"
             ],
             [
              0.7777777777777778,
              "#fb9f3a"
             ],
             [
              0.8888888888888888,
              "#fdca26"
             ],
             [
              1,
              "#f0f921"
             ]
            ],
            "type": "histogram2d"
           }
          ],
          "histogram2dcontour": [
           {
            "colorbar": {
             "outlinewidth": 0,
             "ticks": ""
            },
            "colorscale": [
             [
              0,
              "#0d0887"
             ],
             [
              0.1111111111111111,
              "#46039f"
             ],
             [
              0.2222222222222222,
              "#7201a8"
             ],
             [
              0.3333333333333333,
              "#9c179e"
             ],
             [
              0.4444444444444444,
              "#bd3786"
             ],
             [
              0.5555555555555556,
              "#d8576b"
             ],
             [
              0.6666666666666666,
              "#ed7953"
             ],
             [
              0.7777777777777778,
              "#fb9f3a"
             ],
             [
              0.8888888888888888,
              "#fdca26"
             ],
             [
              1,
              "#f0f921"
             ]
            ],
            "type": "histogram2dcontour"
           }
          ],
          "mesh3d": [
           {
            "colorbar": {
             "outlinewidth": 0,
             "ticks": ""
            },
            "type": "mesh3d"
           }
          ],
          "parcoords": [
           {
            "line": {
             "colorbar": {
              "outlinewidth": 0,
              "ticks": ""
             }
            },
            "type": "parcoords"
           }
          ],
          "pie": [
           {
            "automargin": true,
            "type": "pie"
           }
          ],
          "scatter": [
           {
            "fillpattern": {
             "fillmode": "overlay",
             "size": 10,
             "solidity": 0.2
            },
            "type": "scatter"
           }
          ],
          "scatter3d": [
           {
            "line": {
             "colorbar": {
              "outlinewidth": 0,
              "ticks": ""
             }
            },
            "marker": {
             "colorbar": {
              "outlinewidth": 0,
              "ticks": ""
             }
            },
            "type": "scatter3d"
           }
          ],
          "scattercarpet": [
           {
            "marker": {
             "colorbar": {
              "outlinewidth": 0,
              "ticks": ""
             }
            },
            "type": "scattercarpet"
           }
          ],
          "scattergeo": [
           {
            "marker": {
             "colorbar": {
              "outlinewidth": 0,
              "ticks": ""
             }
            },
            "type": "scattergeo"
           }
          ],
          "scattergl": [
           {
            "marker": {
             "colorbar": {
              "outlinewidth": 0,
              "ticks": ""
             }
            },
            "type": "scattergl"
           }
          ],
          "scattermapbox": [
           {
            "marker": {
             "colorbar": {
              "outlinewidth": 0,
              "ticks": ""
             }
            },
            "type": "scattermapbox"
           }
          ],
          "scatterpolar": [
           {
            "marker": {
             "colorbar": {
              "outlinewidth": 0,
              "ticks": ""
             }
            },
            "type": "scatterpolar"
           }
          ],
          "scatterpolargl": [
           {
            "marker": {
             "colorbar": {
              "outlinewidth": 0,
              "ticks": ""
             }
            },
            "type": "scatterpolargl"
           }
          ],
          "scatterternary": [
           {
            "marker": {
             "colorbar": {
              "outlinewidth": 0,
              "ticks": ""
             }
            },
            "type": "scatterternary"
           }
          ],
          "surface": [
           {
            "colorbar": {
             "outlinewidth": 0,
             "ticks": ""
            },
            "colorscale": [
             [
              0,
              "#0d0887"
             ],
             [
              0.1111111111111111,
              "#46039f"
             ],
             [
              0.2222222222222222,
              "#7201a8"
             ],
             [
              0.3333333333333333,
              "#9c179e"
             ],
             [
              0.4444444444444444,
              "#bd3786"
             ],
             [
              0.5555555555555556,
              "#d8576b"
             ],
             [
              0.6666666666666666,
              "#ed7953"
             ],
             [
              0.7777777777777778,
              "#fb9f3a"
             ],
             [
              0.8888888888888888,
              "#fdca26"
             ],
             [
              1,
              "#f0f921"
             ]
            ],
            "type": "surface"
           }
          ],
          "table": [
           {
            "cells": {
             "fill": {
              "color": "#EBF0F8"
             },
             "line": {
              "color": "white"
             }
            },
            "header": {
             "fill": {
              "color": "#C8D4E3"
             },
             "line": {
              "color": "white"
             }
            },
            "type": "table"
           }
          ]
         },
         "layout": {
          "annotationdefaults": {
           "arrowcolor": "#2a3f5f",
           "arrowhead": 0,
           "arrowwidth": 1
          },
          "autotypenumbers": "strict",
          "coloraxis": {
           "colorbar": {
            "outlinewidth": 0,
            "ticks": ""
           }
          },
          "colorscale": {
           "diverging": [
            [
             0,
             "#8e0152"
            ],
            [
             0.1,
             "#c51b7d"
            ],
            [
             0.2,
             "#de77ae"
            ],
            [
             0.3,
             "#f1b6da"
            ],
            [
             0.4,
             "#fde0ef"
            ],
            [
             0.5,
             "#f7f7f7"
            ],
            [
             0.6,
             "#e6f5d0"
            ],
            [
             0.7,
             "#b8e186"
            ],
            [
             0.8,
             "#7fbc41"
            ],
            [
             0.9,
             "#4d9221"
            ],
            [
             1,
             "#276419"
            ]
           ],
           "sequential": [
            [
             0,
             "#0d0887"
            ],
            [
             0.1111111111111111,
             "#46039f"
            ],
            [
             0.2222222222222222,
             "#7201a8"
            ],
            [
             0.3333333333333333,
             "#9c179e"
            ],
            [
             0.4444444444444444,
             "#bd3786"
            ],
            [
             0.5555555555555556,
             "#d8576b"
            ],
            [
             0.6666666666666666,
             "#ed7953"
            ],
            [
             0.7777777777777778,
             "#fb9f3a"
            ],
            [
             0.8888888888888888,
             "#fdca26"
            ],
            [
             1,
             "#f0f921"
            ]
           ],
           "sequentialminus": [
            [
             0,
             "#0d0887"
            ],
            [
             0.1111111111111111,
             "#46039f"
            ],
            [
             0.2222222222222222,
             "#7201a8"
            ],
            [
             0.3333333333333333,
             "#9c179e"
            ],
            [
             0.4444444444444444,
             "#bd3786"
            ],
            [
             0.5555555555555556,
             "#d8576b"
            ],
            [
             0.6666666666666666,
             "#ed7953"
            ],
            [
             0.7777777777777778,
             "#fb9f3a"
            ],
            [
             0.8888888888888888,
             "#fdca26"
            ],
            [
             1,
             "#f0f921"
            ]
           ]
          },
          "colorway": [
           "#636efa",
           "#EF553B",
           "#00cc96",
           "#ab63fa",
           "#FFA15A",
           "#19d3f3",
           "#FF6692",
           "#B6E880",
           "#FF97FF",
           "#FECB52"
          ],
          "font": {
           "color": "#2a3f5f"
          },
          "geo": {
           "bgcolor": "white",
           "lakecolor": "white",
           "landcolor": "#E5ECF6",
           "showlakes": true,
           "showland": true,
           "subunitcolor": "white"
          },
          "hoverlabel": {
           "align": "left"
          },
          "hovermode": "closest",
          "mapbox": {
           "style": "light"
          },
          "paper_bgcolor": "white",
          "plot_bgcolor": "#E5ECF6",
          "polar": {
           "angularaxis": {
            "gridcolor": "white",
            "linecolor": "white",
            "ticks": ""
           },
           "bgcolor": "#E5ECF6",
           "radialaxis": {
            "gridcolor": "white",
            "linecolor": "white",
            "ticks": ""
           }
          },
          "scene": {
           "xaxis": {
            "backgroundcolor": "#E5ECF6",
            "gridcolor": "white",
            "gridwidth": 2,
            "linecolor": "white",
            "showbackground": true,
            "ticks": "",
            "zerolinecolor": "white"
           },
           "yaxis": {
            "backgroundcolor": "#E5ECF6",
            "gridcolor": "white",
            "gridwidth": 2,
            "linecolor": "white",
            "showbackground": true,
            "ticks": "",
            "zerolinecolor": "white"
           },
           "zaxis": {
            "backgroundcolor": "#E5ECF6",
            "gridcolor": "white",
            "gridwidth": 2,
            "linecolor": "white",
            "showbackground": true,
            "ticks": "",
            "zerolinecolor": "white"
           }
          },
          "shapedefaults": {
           "line": {
            "color": "#2a3f5f"
           }
          },
          "ternary": {
           "aaxis": {
            "gridcolor": "white",
            "linecolor": "white",
            "ticks": ""
           },
           "baxis": {
            "gridcolor": "white",
            "linecolor": "white",
            "ticks": ""
           },
           "bgcolor": "#E5ECF6",
           "caxis": {
            "gridcolor": "white",
            "linecolor": "white",
            "ticks": ""
           }
          },
          "title": {
           "x": 0.05
          },
          "xaxis": {
           "automargin": true,
           "gridcolor": "white",
           "linecolor": "white",
           "ticks": "",
           "title": {
            "standoff": 15
           },
           "zerolinecolor": "white",
           "zerolinewidth": 2
          },
          "yaxis": {
           "automargin": true,
           "gridcolor": "white",
           "linecolor": "white",
           "ticks": "",
           "title": {
            "standoff": 15
           },
           "zerolinecolor": "white",
           "zerolinewidth": 2
          }
         }
        },
        "title": {
         "text": "Распеределине дохода по странам"
        },
        "xaxis": {
         "anchor": "y",
         "domain": [
          0,
          1
         ],
         "title": {
          "text": "Страны"
         }
        },
        "yaxis": {
         "anchor": "x",
         "domain": [
          0,
          1
         ],
         "title": {
          "text": "Доход"
         }
        }
       }
      }
     },
     "metadata": {},
     "output_type": "display_data"
    }
   ],
   "source": [
    "fig = px.box(df3, x='country', y='total',\n",
    "             title='Распеределине дохода по странам',\n",
    "             labels={'country': 'Страны', 'total': 'Доход'})\n",
    "\n",
    "fig.show()"
   ]
  },
  {
   "cell_type": "markdown",
   "metadata": {},
   "source": [
    "## Задание 4."
   ]
  },
  {
   "cell_type": "code",
   "execution_count": 12,
   "metadata": {},
   "outputs": [],
   "source": [
    "connection_string = read_credentials()\n",
    "engine = db.create_engine(connection_string)\n",
    "conn = engine.connect()\n",
    "\n",
    "query = \"\"\"\n",
    "select \n",
    "    extract(month from invoice_date) as month\n",
    "    , sum(total) as total_income\n",
    "from invoice\n",
    "where extract(year from invoice_date) = 2025\n",
    "group by extract(month from invoice_date)\n",
    "order by month;\n",
    "\"\"\"\n",
    "\n",
    "df4 = pd.read_sql_query(query, conn)\n",
    "conn.close()"
   ]
  },
  {
   "cell_type": "code",
   "execution_count": 13,
   "metadata": {},
   "outputs": [
    {
     "data": {
      "application/vnd.plotly.v1+json": {
       "config": {
        "plotlyServerURL": "https://plot.ly"
       },
       "data": [
        {
         "hovertemplate": "Месяц=%{x}<br>Доход=%{y}<extra></extra>",
         "legendgroup": "",
         "line": {
          "color": "#636efa",
          "dash": "solid"
         },
         "marker": {
          "symbol": "circle"
         },
         "mode": "lines",
         "name": "",
         "orientation": "v",
         "showlegend": false,
         "type": "scatter",
         "x": [
          1,
          2,
          3,
          4,
          5,
          6,
          7,
          8,
          9,
          10,
          11,
          12
         ],
         "xaxis": "x",
         "y": [
          37.62,
          27.72,
          37.62,
          33.66,
          37.62,
          37.62,
          37.62,
          37.62,
          37.62,
          37.62,
          49.62,
          38.62
         ],
         "yaxis": "y"
        }
       ],
       "layout": {
        "legend": {
         "tracegroupgap": 0
        },
        "template": {
         "data": {
          "bar": [
           {
            "error_x": {
             "color": "#2a3f5f"
            },
            "error_y": {
             "color": "#2a3f5f"
            },
            "marker": {
             "line": {
              "color": "#E5ECF6",
              "width": 0.5
             },
             "pattern": {
              "fillmode": "overlay",
              "size": 10,
              "solidity": 0.2
             }
            },
            "type": "bar"
           }
          ],
          "barpolar": [
           {
            "marker": {
             "line": {
              "color": "#E5ECF6",
              "width": 0.5
             },
             "pattern": {
              "fillmode": "overlay",
              "size": 10,
              "solidity": 0.2
             }
            },
            "type": "barpolar"
           }
          ],
          "carpet": [
           {
            "aaxis": {
             "endlinecolor": "#2a3f5f",
             "gridcolor": "white",
             "linecolor": "white",
             "minorgridcolor": "white",
             "startlinecolor": "#2a3f5f"
            },
            "baxis": {
             "endlinecolor": "#2a3f5f",
             "gridcolor": "white",
             "linecolor": "white",
             "minorgridcolor": "white",
             "startlinecolor": "#2a3f5f"
            },
            "type": "carpet"
           }
          ],
          "choropleth": [
           {
            "colorbar": {
             "outlinewidth": 0,
             "ticks": ""
            },
            "type": "choropleth"
           }
          ],
          "contour": [
           {
            "colorbar": {
             "outlinewidth": 0,
             "ticks": ""
            },
            "colorscale": [
             [
              0,
              "#0d0887"
             ],
             [
              0.1111111111111111,
              "#46039f"
             ],
             [
              0.2222222222222222,
              "#7201a8"
             ],
             [
              0.3333333333333333,
              "#9c179e"
             ],
             [
              0.4444444444444444,
              "#bd3786"
             ],
             [
              0.5555555555555556,
              "#d8576b"
             ],
             [
              0.6666666666666666,
              "#ed7953"
             ],
             [
              0.7777777777777778,
              "#fb9f3a"
             ],
             [
              0.8888888888888888,
              "#fdca26"
             ],
             [
              1,
              "#f0f921"
             ]
            ],
            "type": "contour"
           }
          ],
          "contourcarpet": [
           {
            "colorbar": {
             "outlinewidth": 0,
             "ticks": ""
            },
            "type": "contourcarpet"
           }
          ],
          "heatmap": [
           {
            "colorbar": {
             "outlinewidth": 0,
             "ticks": ""
            },
            "colorscale": [
             [
              0,
              "#0d0887"
             ],
             [
              0.1111111111111111,
              "#46039f"
             ],
             [
              0.2222222222222222,
              "#7201a8"
             ],
             [
              0.3333333333333333,
              "#9c179e"
             ],
             [
              0.4444444444444444,
              "#bd3786"
             ],
             [
              0.5555555555555556,
              "#d8576b"
             ],
             [
              0.6666666666666666,
              "#ed7953"
             ],
             [
              0.7777777777777778,
              "#fb9f3a"
             ],
             [
              0.8888888888888888,
              "#fdca26"
             ],
             [
              1,
              "#f0f921"
             ]
            ],
            "type": "heatmap"
           }
          ],
          "heatmapgl": [
           {
            "colorbar": {
             "outlinewidth": 0,
             "ticks": ""
            },
            "colorscale": [
             [
              0,
              "#0d0887"
             ],
             [
              0.1111111111111111,
              "#46039f"
             ],
             [
              0.2222222222222222,
              "#7201a8"
             ],
             [
              0.3333333333333333,
              "#9c179e"
             ],
             [
              0.4444444444444444,
              "#bd3786"
             ],
             [
              0.5555555555555556,
              "#d8576b"
             ],
             [
              0.6666666666666666,
              "#ed7953"
             ],
             [
              0.7777777777777778,
              "#fb9f3a"
             ],
             [
              0.8888888888888888,
              "#fdca26"
             ],
             [
              1,
              "#f0f921"
             ]
            ],
            "type": "heatmapgl"
           }
          ],
          "histogram": [
           {
            "marker": {
             "pattern": {
              "fillmode": "overlay",
              "size": 10,
              "solidity": 0.2
             }
            },
            "type": "histogram"
           }
          ],
          "histogram2d": [
           {
            "colorbar": {
             "outlinewidth": 0,
             "ticks": ""
            },
            "colorscale": [
             [
              0,
              "#0d0887"
             ],
             [
              0.1111111111111111,
              "#46039f"
             ],
             [
              0.2222222222222222,
              "#7201a8"
             ],
             [
              0.3333333333333333,
              "#9c179e"
             ],
             [
              0.4444444444444444,
              "#bd3786"
             ],
             [
              0.5555555555555556,
              "#d8576b"
             ],
             [
              0.6666666666666666,
              "#ed7953"
             ],
             [
              0.7777777777777778,
              "#fb9f3a"
             ],
             [
              0.8888888888888888,
              "#fdca26"
             ],
             [
              1,
              "#f0f921"
             ]
            ],
            "type": "histogram2d"
           }
          ],
          "histogram2dcontour": [
           {
            "colorbar": {
             "outlinewidth": 0,
             "ticks": ""
            },
            "colorscale": [
             [
              0,
              "#0d0887"
             ],
             [
              0.1111111111111111,
              "#46039f"
             ],
             [
              0.2222222222222222,
              "#7201a8"
             ],
             [
              0.3333333333333333,
              "#9c179e"
             ],
             [
              0.4444444444444444,
              "#bd3786"
             ],
             [
              0.5555555555555556,
              "#d8576b"
             ],
             [
              0.6666666666666666,
              "#ed7953"
             ],
             [
              0.7777777777777778,
              "#fb9f3a"
             ],
             [
              0.8888888888888888,
              "#fdca26"
             ],
             [
              1,
              "#f0f921"
             ]
            ],
            "type": "histogram2dcontour"
           }
          ],
          "mesh3d": [
           {
            "colorbar": {
             "outlinewidth": 0,
             "ticks": ""
            },
            "type": "mesh3d"
           }
          ],
          "parcoords": [
           {
            "line": {
             "colorbar": {
              "outlinewidth": 0,
              "ticks": ""
             }
            },
            "type": "parcoords"
           }
          ],
          "pie": [
           {
            "automargin": true,
            "type": "pie"
           }
          ],
          "scatter": [
           {
            "fillpattern": {
             "fillmode": "overlay",
             "size": 10,
             "solidity": 0.2
            },
            "type": "scatter"
           }
          ],
          "scatter3d": [
           {
            "line": {
             "colorbar": {
              "outlinewidth": 0,
              "ticks": ""
             }
            },
            "marker": {
             "colorbar": {
              "outlinewidth": 0,
              "ticks": ""
             }
            },
            "type": "scatter3d"
           }
          ],
          "scattercarpet": [
           {
            "marker": {
             "colorbar": {
              "outlinewidth": 0,
              "ticks": ""
             }
            },
            "type": "scattercarpet"
           }
          ],
          "scattergeo": [
           {
            "marker": {
             "colorbar": {
              "outlinewidth": 0,
              "ticks": ""
             }
            },
            "type": "scattergeo"
           }
          ],
          "scattergl": [
           {
            "marker": {
             "colorbar": {
              "outlinewidth": 0,
              "ticks": ""
             }
            },
            "type": "scattergl"
           }
          ],
          "scattermapbox": [
           {
            "marker": {
             "colorbar": {
              "outlinewidth": 0,
              "ticks": ""
             }
            },
            "type": "scattermapbox"
           }
          ],
          "scatterpolar": [
           {
            "marker": {
             "colorbar": {
              "outlinewidth": 0,
              "ticks": ""
             }
            },
            "type": "scatterpolar"
           }
          ],
          "scatterpolargl": [
           {
            "marker": {
             "colorbar": {
              "outlinewidth": 0,
              "ticks": ""
             }
            },
            "type": "scatterpolargl"
           }
          ],
          "scatterternary": [
           {
            "marker": {
             "colorbar": {
              "outlinewidth": 0,
              "ticks": ""
             }
            },
            "type": "scatterternary"
           }
          ],
          "surface": [
           {
            "colorbar": {
             "outlinewidth": 0,
             "ticks": ""
            },
            "colorscale": [
             [
              0,
              "#0d0887"
             ],
             [
              0.1111111111111111,
              "#46039f"
             ],
             [
              0.2222222222222222,
              "#7201a8"
             ],
             [
              0.3333333333333333,
              "#9c179e"
             ],
             [
              0.4444444444444444,
              "#bd3786"
             ],
             [
              0.5555555555555556,
              "#d8576b"
             ],
             [
              0.6666666666666666,
              "#ed7953"
             ],
             [
              0.7777777777777778,
              "#fb9f3a"
             ],
             [
              0.8888888888888888,
              "#fdca26"
             ],
             [
              1,
              "#f0f921"
             ]
            ],
            "type": "surface"
           }
          ],
          "table": [
           {
            "cells": {
             "fill": {
              "color": "#EBF0F8"
             },
             "line": {
              "color": "white"
             }
            },
            "header": {
             "fill": {
              "color": "#C8D4E3"
             },
             "line": {
              "color": "white"
             }
            },
            "type": "table"
           }
          ]
         },
         "layout": {
          "annotationdefaults": {
           "arrowcolor": "#2a3f5f",
           "arrowhead": 0,
           "arrowwidth": 1
          },
          "autotypenumbers": "strict",
          "coloraxis": {
           "colorbar": {
            "outlinewidth": 0,
            "ticks": ""
           }
          },
          "colorscale": {
           "diverging": [
            [
             0,
             "#8e0152"
            ],
            [
             0.1,
             "#c51b7d"
            ],
            [
             0.2,
             "#de77ae"
            ],
            [
             0.3,
             "#f1b6da"
            ],
            [
             0.4,
             "#fde0ef"
            ],
            [
             0.5,
             "#f7f7f7"
            ],
            [
             0.6,
             "#e6f5d0"
            ],
            [
             0.7,
             "#b8e186"
            ],
            [
             0.8,
             "#7fbc41"
            ],
            [
             0.9,
             "#4d9221"
            ],
            [
             1,
             "#276419"
            ]
           ],
           "sequential": [
            [
             0,
             "#0d0887"
            ],
            [
             0.1111111111111111,
             "#46039f"
            ],
            [
             0.2222222222222222,
             "#7201a8"
            ],
            [
             0.3333333333333333,
             "#9c179e"
            ],
            [
             0.4444444444444444,
             "#bd3786"
            ],
            [
             0.5555555555555556,
             "#d8576b"
            ],
            [
             0.6666666666666666,
             "#ed7953"
            ],
            [
             0.7777777777777778,
             "#fb9f3a"
            ],
            [
             0.8888888888888888,
             "#fdca26"
            ],
            [
             1,
             "#f0f921"
            ]
           ],
           "sequentialminus": [
            [
             0,
             "#0d0887"
            ],
            [
             0.1111111111111111,
             "#46039f"
            ],
            [
             0.2222222222222222,
             "#7201a8"
            ],
            [
             0.3333333333333333,
             "#9c179e"
            ],
            [
             0.4444444444444444,
             "#bd3786"
            ],
            [
             0.5555555555555556,
             "#d8576b"
            ],
            [
             0.6666666666666666,
             "#ed7953"
            ],
            [
             0.7777777777777778,
             "#fb9f3a"
            ],
            [
             0.8888888888888888,
             "#fdca26"
            ],
            [
             1,
             "#f0f921"
            ]
           ]
          },
          "colorway": [
           "#636efa",
           "#EF553B",
           "#00cc96",
           "#ab63fa",
           "#FFA15A",
           "#19d3f3",
           "#FF6692",
           "#B6E880",
           "#FF97FF",
           "#FECB52"
          ],
          "font": {
           "color": "#2a3f5f"
          },
          "geo": {
           "bgcolor": "white",
           "lakecolor": "white",
           "landcolor": "#E5ECF6",
           "showlakes": true,
           "showland": true,
           "subunitcolor": "white"
          },
          "hoverlabel": {
           "align": "left"
          },
          "hovermode": "closest",
          "mapbox": {
           "style": "light"
          },
          "paper_bgcolor": "white",
          "plot_bgcolor": "#E5ECF6",
          "polar": {
           "angularaxis": {
            "gridcolor": "white",
            "linecolor": "white",
            "ticks": ""
           },
           "bgcolor": "#E5ECF6",
           "radialaxis": {
            "gridcolor": "white",
            "linecolor": "white",
            "ticks": ""
           }
          },
          "scene": {
           "xaxis": {
            "backgroundcolor": "#E5ECF6",
            "gridcolor": "white",
            "gridwidth": 2,
            "linecolor": "white",
            "showbackground": true,
            "ticks": "",
            "zerolinecolor": "white"
           },
           "yaxis": {
            "backgroundcolor": "#E5ECF6",
            "gridcolor": "white",
            "gridwidth": 2,
            "linecolor": "white",
            "showbackground": true,
            "ticks": "",
            "zerolinecolor": "white"
           },
           "zaxis": {
            "backgroundcolor": "#E5ECF6",
            "gridcolor": "white",
            "gridwidth": 2,
            "linecolor": "white",
            "showbackground": true,
            "ticks": "",
            "zerolinecolor": "white"
           }
          },
          "shapedefaults": {
           "line": {
            "color": "#2a3f5f"
           }
          },
          "ternary": {
           "aaxis": {
            "gridcolor": "white",
            "linecolor": "white",
            "ticks": ""
           },
           "baxis": {
            "gridcolor": "white",
            "linecolor": "white",
            "ticks": ""
           },
           "bgcolor": "#E5ECF6",
           "caxis": {
            "gridcolor": "white",
            "linecolor": "white",
            "ticks": ""
           }
          },
          "title": {
           "x": 0.05
          },
          "xaxis": {
           "automargin": true,
           "gridcolor": "white",
           "linecolor": "white",
           "ticks": "",
           "title": {
            "standoff": 15
           },
           "zerolinecolor": "white",
           "zerolinewidth": 2
          },
          "yaxis": {
           "automargin": true,
           "gridcolor": "white",
           "linecolor": "white",
           "ticks": "",
           "title": {
            "standoff": 15
           },
           "zerolinecolor": "white",
           "zerolinewidth": 2
          }
         }
        },
        "title": {
         "text": "Изменение дохода по месяцам за 2025 год"
        },
        "xaxis": {
         "anchor": "y",
         "domain": [
          0,
          1
         ],
         "title": {
          "text": "Месяц"
         }
        },
        "yaxis": {
         "anchor": "x",
         "domain": [
          0,
          1
         ],
         "title": {
          "text": "Доход"
         }
        }
       }
      }
     },
     "metadata": {},
     "output_type": "display_data"
    }
   ],
   "source": [
    "fig = px.line(df4, x='month', y='total_income',\n",
    "              title='Изменение дохода по месяцам за 2025 год',\n",
    "              labels={'month': 'Месяц', 'total_income': 'Доход'})\n",
    "\n",
    "fig.show()"
   ]
  },
  {
   "cell_type": "markdown",
   "metadata": {},
   "source": [
    "## Задание 5."
   ]
  },
  {
   "cell_type": "code",
   "execution_count": 17,
   "metadata": {},
   "outputs": [],
   "source": [
    "connection_string = read_credentials()\n",
    "engine = db.create_engine(connection_string)\n",
    "conn = engine.connect()\n",
    "\n",
    "query = \"\"\"\n",
    "select \n",
    "    case \n",
    "        when billing_country = 'USA' then 'США'\n",
    "        else 'Остальной мир'\n",
    "    end as region,\n",
    "    sum(total) as total_sales\n",
    "from invoice\n",
    "group by region;\n",
    "\"\"\"\n",
    "\n",
    "df5 = pd.read_sql_query(query, conn)\n",
    "\n",
    "conn.close()"
   ]
  },
  {
   "cell_type": "code",
   "execution_count": 18,
   "metadata": {},
   "outputs": [
    {
     "data": {
      "application/vnd.plotly.v1+json": {
       "config": {
        "plotlyServerURL": "https://plot.ly"
       },
       "data": [
        {
         "domain": {
          "x": [
           0,
           1
          ],
          "y": [
           0,
           1
          ]
         },
         "hovertemplate": "region=%{label}<br>total_sales=%{value}<extra></extra>",
         "labels": [
          "Остальной мир",
          "США"
         ],
         "legendgroup": "",
         "name": "",
         "showlegend": true,
         "type": "pie",
         "values": [
          1805.54,
          523.06
         ]
        }
       ],
       "layout": {
        "legend": {
         "tracegroupgap": 0
        },
        "template": {
         "data": {
          "bar": [
           {
            "error_x": {
             "color": "#2a3f5f"
            },
            "error_y": {
             "color": "#2a3f5f"
            },
            "marker": {
             "line": {
              "color": "#E5ECF6",
              "width": 0.5
             },
             "pattern": {
              "fillmode": "overlay",
              "size": 10,
              "solidity": 0.2
             }
            },
            "type": "bar"
           }
          ],
          "barpolar": [
           {
            "marker": {
             "line": {
              "color": "#E5ECF6",
              "width": 0.5
             },
             "pattern": {
              "fillmode": "overlay",
              "size": 10,
              "solidity": 0.2
             }
            },
            "type": "barpolar"
           }
          ],
          "carpet": [
           {
            "aaxis": {
             "endlinecolor": "#2a3f5f",
             "gridcolor": "white",
             "linecolor": "white",
             "minorgridcolor": "white",
             "startlinecolor": "#2a3f5f"
            },
            "baxis": {
             "endlinecolor": "#2a3f5f",
             "gridcolor": "white",
             "linecolor": "white",
             "minorgridcolor": "white",
             "startlinecolor": "#2a3f5f"
            },
            "type": "carpet"
           }
          ],
          "choropleth": [
           {
            "colorbar": {
             "outlinewidth": 0,
             "ticks": ""
            },
            "type": "choropleth"
           }
          ],
          "contour": [
           {
            "colorbar": {
             "outlinewidth": 0,
             "ticks": ""
            },
            "colorscale": [
             [
              0,
              "#0d0887"
             ],
             [
              0.1111111111111111,
              "#46039f"
             ],
             [
              0.2222222222222222,
              "#7201a8"
             ],
             [
              0.3333333333333333,
              "#9c179e"
             ],
             [
              0.4444444444444444,
              "#bd3786"
             ],
             [
              0.5555555555555556,
              "#d8576b"
             ],
             [
              0.6666666666666666,
              "#ed7953"
             ],
             [
              0.7777777777777778,
              "#fb9f3a"
             ],
             [
              0.8888888888888888,
              "#fdca26"
             ],
             [
              1,
              "#f0f921"
             ]
            ],
            "type": "contour"
           }
          ],
          "contourcarpet": [
           {
            "colorbar": {
             "outlinewidth": 0,
             "ticks": ""
            },
            "type": "contourcarpet"
           }
          ],
          "heatmap": [
           {
            "colorbar": {
             "outlinewidth": 0,
             "ticks": ""
            },
            "colorscale": [
             [
              0,
              "#0d0887"
             ],
             [
              0.1111111111111111,
              "#46039f"
             ],
             [
              0.2222222222222222,
              "#7201a8"
             ],
             [
              0.3333333333333333,
              "#9c179e"
             ],
             [
              0.4444444444444444,
              "#bd3786"
             ],
             [
              0.5555555555555556,
              "#d8576b"
             ],
             [
              0.6666666666666666,
              "#ed7953"
             ],
             [
              0.7777777777777778,
              "#fb9f3a"
             ],
             [
              0.8888888888888888,
              "#fdca26"
             ],
             [
              1,
              "#f0f921"
             ]
            ],
            "type": "heatmap"
           }
          ],
          "heatmapgl": [
           {
            "colorbar": {
             "outlinewidth": 0,
             "ticks": ""
            },
            "colorscale": [
             [
              0,
              "#0d0887"
             ],
             [
              0.1111111111111111,
              "#46039f"
             ],
             [
              0.2222222222222222,
              "#7201a8"
             ],
             [
              0.3333333333333333,
              "#9c179e"
             ],
             [
              0.4444444444444444,
              "#bd3786"
             ],
             [
              0.5555555555555556,
              "#d8576b"
             ],
             [
              0.6666666666666666,
              "#ed7953"
             ],
             [
              0.7777777777777778,
              "#fb9f3a"
             ],
             [
              0.8888888888888888,
              "#fdca26"
             ],
             [
              1,
              "#f0f921"
             ]
            ],
            "type": "heatmapgl"
           }
          ],
          "histogram": [
           {
            "marker": {
             "pattern": {
              "fillmode": "overlay",
              "size": 10,
              "solidity": 0.2
             }
            },
            "type": "histogram"
           }
          ],
          "histogram2d": [
           {
            "colorbar": {
             "outlinewidth": 0,
             "ticks": ""
            },
            "colorscale": [
             [
              0,
              "#0d0887"
             ],
             [
              0.1111111111111111,
              "#46039f"
             ],
             [
              0.2222222222222222,
              "#7201a8"
             ],
             [
              0.3333333333333333,
              "#9c179e"
             ],
             [
              0.4444444444444444,
              "#bd3786"
             ],
             [
              0.5555555555555556,
              "#d8576b"
             ],
             [
              0.6666666666666666,
              "#ed7953"
             ],
             [
              0.7777777777777778,
              "#fb9f3a"
             ],
             [
              0.8888888888888888,
              "#fdca26"
             ],
             [
              1,
              "#f0f921"
             ]
            ],
            "type": "histogram2d"
           }
          ],
          "histogram2dcontour": [
           {
            "colorbar": {
             "outlinewidth": 0,
             "ticks": ""
            },
            "colorscale": [
             [
              0,
              "#0d0887"
             ],
             [
              0.1111111111111111,
              "#46039f"
             ],
             [
              0.2222222222222222,
              "#7201a8"
             ],
             [
              0.3333333333333333,
              "#9c179e"
             ],
             [
              0.4444444444444444,
              "#bd3786"
             ],
             [
              0.5555555555555556,
              "#d8576b"
             ],
             [
              0.6666666666666666,
              "#ed7953"
             ],
             [
              0.7777777777777778,
              "#fb9f3a"
             ],
             [
              0.8888888888888888,
              "#fdca26"
             ],
             [
              1,
              "#f0f921"
             ]
            ],
            "type": "histogram2dcontour"
           }
          ],
          "mesh3d": [
           {
            "colorbar": {
             "outlinewidth": 0,
             "ticks": ""
            },
            "type": "mesh3d"
           }
          ],
          "parcoords": [
           {
            "line": {
             "colorbar": {
              "outlinewidth": 0,
              "ticks": ""
             }
            },
            "type": "parcoords"
           }
          ],
          "pie": [
           {
            "automargin": true,
            "type": "pie"
           }
          ],
          "scatter": [
           {
            "fillpattern": {
             "fillmode": "overlay",
             "size": 10,
             "solidity": 0.2
            },
            "type": "scatter"
           }
          ],
          "scatter3d": [
           {
            "line": {
             "colorbar": {
              "outlinewidth": 0,
              "ticks": ""
             }
            },
            "marker": {
             "colorbar": {
              "outlinewidth": 0,
              "ticks": ""
             }
            },
            "type": "scatter3d"
           }
          ],
          "scattercarpet": [
           {
            "marker": {
             "colorbar": {
              "outlinewidth": 0,
              "ticks": ""
             }
            },
            "type": "scattercarpet"
           }
          ],
          "scattergeo": [
           {
            "marker": {
             "colorbar": {
              "outlinewidth": 0,
              "ticks": ""
             }
            },
            "type": "scattergeo"
           }
          ],
          "scattergl": [
           {
            "marker": {
             "colorbar": {
              "outlinewidth": 0,
              "ticks": ""
             }
            },
            "type": "scattergl"
           }
          ],
          "scattermapbox": [
           {
            "marker": {
             "colorbar": {
              "outlinewidth": 0,
              "ticks": ""
             }
            },
            "type": "scattermapbox"
           }
          ],
          "scatterpolar": [
           {
            "marker": {
             "colorbar": {
              "outlinewidth": 0,
              "ticks": ""
             }
            },
            "type": "scatterpolar"
           }
          ],
          "scatterpolargl": [
           {
            "marker": {
             "colorbar": {
              "outlinewidth": 0,
              "ticks": ""
             }
            },
            "type": "scatterpolargl"
           }
          ],
          "scatterternary": [
           {
            "marker": {
             "colorbar": {
              "outlinewidth": 0,
              "ticks": ""
             }
            },
            "type": "scatterternary"
           }
          ],
          "surface": [
           {
            "colorbar": {
             "outlinewidth": 0,
             "ticks": ""
            },
            "colorscale": [
             [
              0,
              "#0d0887"
             ],
             [
              0.1111111111111111,
              "#46039f"
             ],
             [
              0.2222222222222222,
              "#7201a8"
             ],
             [
              0.3333333333333333,
              "#9c179e"
             ],
             [
              0.4444444444444444,
              "#bd3786"
             ],
             [
              0.5555555555555556,
              "#d8576b"
             ],
             [
              0.6666666666666666,
              "#ed7953"
             ],
             [
              0.7777777777777778,
              "#fb9f3a"
             ],
             [
              0.8888888888888888,
              "#fdca26"
             ],
             [
              1,
              "#f0f921"
             ]
            ],
            "type": "surface"
           }
          ],
          "table": [
           {
            "cells": {
             "fill": {
              "color": "#EBF0F8"
             },
             "line": {
              "color": "white"
             }
            },
            "header": {
             "fill": {
              "color": "#C8D4E3"
             },
             "line": {
              "color": "white"
             }
            },
            "type": "table"
           }
          ]
         },
         "layout": {
          "annotationdefaults": {
           "arrowcolor": "#2a3f5f",
           "arrowhead": 0,
           "arrowwidth": 1
          },
          "autotypenumbers": "strict",
          "coloraxis": {
           "colorbar": {
            "outlinewidth": 0,
            "ticks": ""
           }
          },
          "colorscale": {
           "diverging": [
            [
             0,
             "#8e0152"
            ],
            [
             0.1,
             "#c51b7d"
            ],
            [
             0.2,
             "#de77ae"
            ],
            [
             0.3,
             "#f1b6da"
            ],
            [
             0.4,
             "#fde0ef"
            ],
            [
             0.5,
             "#f7f7f7"
            ],
            [
             0.6,
             "#e6f5d0"
            ],
            [
             0.7,
             "#b8e186"
            ],
            [
             0.8,
             "#7fbc41"
            ],
            [
             0.9,
             "#4d9221"
            ],
            [
             1,
             "#276419"
            ]
           ],
           "sequential": [
            [
             0,
             "#0d0887"
            ],
            [
             0.1111111111111111,
             "#46039f"
            ],
            [
             0.2222222222222222,
             "#7201a8"
            ],
            [
             0.3333333333333333,
             "#9c179e"
            ],
            [
             0.4444444444444444,
             "#bd3786"
            ],
            [
             0.5555555555555556,
             "#d8576b"
            ],
            [
             0.6666666666666666,
             "#ed7953"
            ],
            [
             0.7777777777777778,
             "#fb9f3a"
            ],
            [
             0.8888888888888888,
             "#fdca26"
            ],
            [
             1,
             "#f0f921"
            ]
           ],
           "sequentialminus": [
            [
             0,
             "#0d0887"
            ],
            [
             0.1111111111111111,
             "#46039f"
            ],
            [
             0.2222222222222222,
             "#7201a8"
            ],
            [
             0.3333333333333333,
             "#9c179e"
            ],
            [
             0.4444444444444444,
             "#bd3786"
            ],
            [
             0.5555555555555556,
             "#d8576b"
            ],
            [
             0.6666666666666666,
             "#ed7953"
            ],
            [
             0.7777777777777778,
             "#fb9f3a"
            ],
            [
             0.8888888888888888,
             "#fdca26"
            ],
            [
             1,
             "#f0f921"
            ]
           ]
          },
          "colorway": [
           "#636efa",
           "#EF553B",
           "#00cc96",
           "#ab63fa",
           "#FFA15A",
           "#19d3f3",
           "#FF6692",
           "#B6E880",
           "#FF97FF",
           "#FECB52"
          ],
          "font": {
           "color": "#2a3f5f"
          },
          "geo": {
           "bgcolor": "white",
           "lakecolor": "white",
           "landcolor": "#E5ECF6",
           "showlakes": true,
           "showland": true,
           "subunitcolor": "white"
          },
          "hoverlabel": {
           "align": "left"
          },
          "hovermode": "closest",
          "mapbox": {
           "style": "light"
          },
          "paper_bgcolor": "white",
          "plot_bgcolor": "#E5ECF6",
          "polar": {
           "angularaxis": {
            "gridcolor": "white",
            "linecolor": "white",
            "ticks": ""
           },
           "bgcolor": "#E5ECF6",
           "radialaxis": {
            "gridcolor": "white",
            "linecolor": "white",
            "ticks": ""
           }
          },
          "scene": {
           "xaxis": {
            "backgroundcolor": "#E5ECF6",
            "gridcolor": "white",
            "gridwidth": 2,
            "linecolor": "white",
            "showbackground": true,
            "ticks": "",
            "zerolinecolor": "white"
           },
           "yaxis": {
            "backgroundcolor": "#E5ECF6",
            "gridcolor": "white",
            "gridwidth": 2,
            "linecolor": "white",
            "showbackground": true,
            "ticks": "",
            "zerolinecolor": "white"
           },
           "zaxis": {
            "backgroundcolor": "#E5ECF6",
            "gridcolor": "white",
            "gridwidth": 2,
            "linecolor": "white",
            "showbackground": true,
            "ticks": "",
            "zerolinecolor": "white"
           }
          },
          "shapedefaults": {
           "line": {
            "color": "#2a3f5f"
           }
          },
          "ternary": {
           "aaxis": {
            "gridcolor": "white",
            "linecolor": "white",
            "ticks": ""
           },
           "baxis": {
            "gridcolor": "white",
            "linecolor": "white",
            "ticks": ""
           },
           "bgcolor": "#E5ECF6",
           "caxis": {
            "gridcolor": "white",
            "linecolor": "white",
            "ticks": ""
           }
          },
          "title": {
           "x": 0.05
          },
          "xaxis": {
           "automargin": true,
           "gridcolor": "white",
           "linecolor": "white",
           "ticks": "",
           "title": {
            "standoff": 15
           },
           "zerolinecolor": "white",
           "zerolinewidth": 2
          },
          "yaxis": {
           "automargin": true,
           "gridcolor": "white",
           "linecolor": "white",
           "ticks": "",
           "title": {
            "standoff": 15
           },
           "zerolinecolor": "white",
           "zerolinewidth": 2
          }
         }
        },
        "title": {
         "text": "Соотношение продаж в США и в остальном мире"
        }
       }
      }
     },
     "metadata": {},
     "output_type": "display_data"
    }
   ],
   "source": [
    "fig = px.pie(df5, values='total_sales', names='region',\n",
    "             title='Соотношение продаж в США и в остальном мире')\n",
    "\n",
    "fig.show()"
   ]
  },
  {
   "cell_type": "code",
   "execution_count": null,
   "metadata": {},
   "outputs": [],
   "source": []
  }
 ],
 "metadata": {
  "kernelspec": {
   "display_name": "Python 3",
   "language": "python",
   "name": "python3"
  },
  "language_info": {
   "codemirror_mode": {
    "name": "ipython",
    "version": 3
   },
   "file_extension": ".py",
   "mimetype": "text/x-python",
   "name": "python",
   "nbconvert_exporter": "python",
   "pygments_lexer": "ipython3",
   "version": "3.12.3"
  }
 },
 "nbformat": 4,
 "nbformat_minor": 2
}
